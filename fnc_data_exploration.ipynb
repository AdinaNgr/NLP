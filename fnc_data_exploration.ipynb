{
 "cells": [
  {
   "cell_type": "code",
   "execution_count": 1,
   "metadata": {
    "collapsed": true
   },
   "outputs": [],
   "source": [
    "import numpy as np\n",
    "import pandas as pd\n",
    "import matplotlib.pyplot as plt\n",
    "from dataproc_utils import *\n",
    "%matplotlib inline\n",
    "plt.rcParams['figure.figsize'] = (10, 6)\n",
    "pd.set_option('max_colwidth', 400)"
   ]
  },
  {
   "cell_type": "code",
   "execution_count": 2,
   "metadata": {
    "collapsed": true
   },
   "outputs": [],
   "source": [
    "# data exploration of the stances file in train set\n",
    "stances = pd.read_csv('fnc-data/train_stances.csv')"
   ]
  },
  {
   "cell_type": "code",
   "execution_count": 3,
   "metadata": {},
   "outputs": [
    {
     "data": {
      "text/html": [
       "<div>\n",
       "<style>\n",
       "    .dataframe thead tr:only-child th {\n",
       "        text-align: right;\n",
       "    }\n",
       "\n",
       "    .dataframe thead th {\n",
       "        text-align: left;\n",
       "    }\n",
       "\n",
       "    .dataframe tbody tr th {\n",
       "        vertical-align: top;\n",
       "    }\n",
       "</style>\n",
       "<table border=\"1\" class=\"dataframe\">\n",
       "  <thead>\n",
       "    <tr style=\"text-align: right;\">\n",
       "      <th></th>\n",
       "      <th>Headline</th>\n",
       "      <th>Body ID</th>\n",
       "      <th>Stance</th>\n",
       "    </tr>\n",
       "  </thead>\n",
       "  <tbody>\n",
       "    <tr>\n",
       "      <th>49962</th>\n",
       "      <td>Would-be rapist has penis severed by angry mob</td>\n",
       "      <td>36</td>\n",
       "      <td>unrelated</td>\n",
       "    </tr>\n",
       "    <tr>\n",
       "      <th>49963</th>\n",
       "      <td>Nigeria claims deal with Boko Haram on ceasefire, kidnapped girls</td>\n",
       "      <td>2078</td>\n",
       "      <td>unrelated</td>\n",
       "    </tr>\n",
       "    <tr>\n",
       "      <th>49964</th>\n",
       "      <td>'Banksy' Reacts To Paris Attack With Poignant Drawing</td>\n",
       "      <td>438</td>\n",
       "      <td>unrelated</td>\n",
       "    </tr>\n",
       "    <tr>\n",
       "      <th>49965</th>\n",
       "      <td>Indian 'Rapist' Castrated By Angry Mob Who Hack Off Gentials With Meat Cleaver (GRAPHIC PICTURES)</td>\n",
       "      <td>1760</td>\n",
       "      <td>unrelated</td>\n",
       "    </tr>\n",
       "    <tr>\n",
       "      <th>49966</th>\n",
       "      <td>Canadian Soldier Shot At Ottawa War Memorial: Report</td>\n",
       "      <td>524</td>\n",
       "      <td>unrelated</td>\n",
       "    </tr>\n",
       "    <tr>\n",
       "      <th>49967</th>\n",
       "      <td>Urgent: The Leader of ISIL 'Abu Bakr al-Baghdadi' Killed! / Photo</td>\n",
       "      <td>1681</td>\n",
       "      <td>unrelated</td>\n",
       "    </tr>\n",
       "    <tr>\n",
       "      <th>49968</th>\n",
       "      <td>Brian Williams slams social media for speculation weatherman Mike Seidel relieved himself on air</td>\n",
       "      <td>2419</td>\n",
       "      <td>unrelated</td>\n",
       "    </tr>\n",
       "    <tr>\n",
       "      <th>49969</th>\n",
       "      <td>Mexico Says Missing Students Not Found In First Mass Graves</td>\n",
       "      <td>1156</td>\n",
       "      <td>agree</td>\n",
       "    </tr>\n",
       "    <tr>\n",
       "      <th>49970</th>\n",
       "      <td>US Lawmaker: Ten ISIS Fighters Have Been Apprehended Coming Across Southern Border (Video)</td>\n",
       "      <td>1012</td>\n",
       "      <td>discuss</td>\n",
       "    </tr>\n",
       "    <tr>\n",
       "      <th>49971</th>\n",
       "      <td>Shots Heard In Alleged Brown Shooting Recording [AUDIO]</td>\n",
       "      <td>2044</td>\n",
       "      <td>unrelated</td>\n",
       "    </tr>\n",
       "  </tbody>\n",
       "</table>\n",
       "</div>"
      ],
      "text/plain": [
       "                                                                                                Headline  \\\n",
       "49962                                                     Would-be rapist has penis severed by angry mob   \n",
       "49963                                  Nigeria claims deal with Boko Haram on ceasefire, kidnapped girls   \n",
       "49964                                              'Banksy' Reacts To Paris Attack With Poignant Drawing   \n",
       "49965  Indian 'Rapist' Castrated By Angry Mob Who Hack Off Gentials With Meat Cleaver (GRAPHIC PICTURES)   \n",
       "49966                                               Canadian Soldier Shot At Ottawa War Memorial: Report   \n",
       "49967                                  Urgent: The Leader of ISIL 'Abu Bakr al-Baghdadi' Killed! / Photo   \n",
       "49968   Brian Williams slams social media for speculation weatherman Mike Seidel relieved himself on air   \n",
       "49969                                        Mexico Says Missing Students Not Found In First Mass Graves   \n",
       "49970         US Lawmaker: Ten ISIS Fighters Have Been Apprehended Coming Across Southern Border (Video)   \n",
       "49971                                            Shots Heard In Alleged Brown Shooting Recording [AUDIO]   \n",
       "\n",
       "       Body ID     Stance  \n",
       "49962       36  unrelated  \n",
       "49963     2078  unrelated  \n",
       "49964      438  unrelated  \n",
       "49965     1760  unrelated  \n",
       "49966      524  unrelated  \n",
       "49967     1681  unrelated  \n",
       "49968     2419  unrelated  \n",
       "49969     1156      agree  \n",
       "49970     1012    discuss  \n",
       "49971     2044  unrelated  "
      ]
     },
     "execution_count": 3,
     "metadata": {},
     "output_type": "execute_result"
    }
   ],
   "source": [
    "stances.tail(10)"
   ]
  },
  {
   "cell_type": "code",
   "execution_count": 4,
   "metadata": {},
   "outputs": [
    {
     "data": {
      "text/plain": [
       "49972"
      ]
     },
     "execution_count": 4,
     "metadata": {},
     "output_type": "execute_result"
    }
   ],
   "source": [
    "# total number of headlines (claims)\n",
    "stances.Headline.count()"
   ]
  },
  {
   "cell_type": "code",
   "execution_count": 5,
   "metadata": {},
   "outputs": [
    {
     "data": {
      "text/plain": [
       "1648"
      ]
     },
     "execution_count": 5,
     "metadata": {},
     "output_type": "execute_result"
    }
   ],
   "source": [
    "# number of unique headlines (claims)\n",
    "stances.Headline.nunique()"
   ]
  },
  {
   "cell_type": "code",
   "execution_count": 6,
   "metadata": {
    "collapsed": true
   },
   "outputs": [],
   "source": [
    "stances['n_words'] = 0\n",
    "\n",
    "for col, row in stances.iterrows():\n",
    "    claim = row['Headline']\n",
    "    n_words = len(claim.split(' '))\n",
    "    stances.loc[col, 'n_words'] = n_words"
   ]
  },
  {
   "cell_type": "code",
   "execution_count": 7,
   "metadata": {},
   "outputs": [
    {
     "data": {
      "text/html": [
       "<div>\n",
       "<style>\n",
       "    .dataframe thead tr:only-child th {\n",
       "        text-align: right;\n",
       "    }\n",
       "\n",
       "    .dataframe thead th {\n",
       "        text-align: left;\n",
       "    }\n",
       "\n",
       "    .dataframe tbody tr th {\n",
       "        vertical-align: top;\n",
       "    }\n",
       "</style>\n",
       "<table border=\"1\" class=\"dataframe\">\n",
       "  <thead>\n",
       "    <tr style=\"text-align: right;\">\n",
       "      <th></th>\n",
       "      <th>Headline</th>\n",
       "      <th>Body ID</th>\n",
       "      <th>Stance</th>\n",
       "      <th>n_words</th>\n",
       "    </tr>\n",
       "  </thead>\n",
       "  <tbody>\n",
       "    <tr>\n",
       "      <th>0</th>\n",
       "      <td>Police find mass graves with at least '15 bodies' near Mexico town where 43 students disappeared after police clash</td>\n",
       "      <td>712</td>\n",
       "      <td>unrelated</td>\n",
       "      <td>19</td>\n",
       "    </tr>\n",
       "    <tr>\n",
       "      <th>1</th>\n",
       "      <td>Hundreds of Palestinians flee floods in Gaza as Israel opens dams</td>\n",
       "      <td>158</td>\n",
       "      <td>agree</td>\n",
       "      <td>11</td>\n",
       "    </tr>\n",
       "    <tr>\n",
       "      <th>2</th>\n",
       "      <td>Christian Bale passes on role of Steve Jobs, actor reportedly felt he wasn't right for part</td>\n",
       "      <td>137</td>\n",
       "      <td>unrelated</td>\n",
       "      <td>16</td>\n",
       "    </tr>\n",
       "    <tr>\n",
       "      <th>3</th>\n",
       "      <td>HBO and Apple in Talks for $15/Month Apple TV Streaming Service Launching in April</td>\n",
       "      <td>1034</td>\n",
       "      <td>unrelated</td>\n",
       "      <td>14</td>\n",
       "    </tr>\n",
       "    <tr>\n",
       "      <th>4</th>\n",
       "      <td>Spider burrowed through tourist's stomach and up into his chest</td>\n",
       "      <td>1923</td>\n",
       "      <td>disagree</td>\n",
       "      <td>10</td>\n",
       "    </tr>\n",
       "    <tr>\n",
       "      <th>5</th>\n",
       "      <td>'Nasa Confirms Earth Will Experience 6 Days of Total Darkness in December' Fake News Story Goes Viral</td>\n",
       "      <td>154</td>\n",
       "      <td>agree</td>\n",
       "      <td>17</td>\n",
       "    </tr>\n",
       "    <tr>\n",
       "      <th>6</th>\n",
       "      <td>Accused Boston Marathon Bomber Severely Injured In Prison, May Never Walk Or Talk Again</td>\n",
       "      <td>962</td>\n",
       "      <td>unrelated</td>\n",
       "      <td>14</td>\n",
       "    </tr>\n",
       "    <tr>\n",
       "      <th>7</th>\n",
       "      <td>Identity of ISIS terrorist known as 'Jihadi John' reportedly revealed</td>\n",
       "      <td>2033</td>\n",
       "      <td>unrelated</td>\n",
       "      <td>10</td>\n",
       "    </tr>\n",
       "    <tr>\n",
       "      <th>8</th>\n",
       "      <td>Banksy 'Arrested &amp; Real Identity Revealed' Is The Same Hoax From Last Year</td>\n",
       "      <td>1739</td>\n",
       "      <td>agree</td>\n",
       "      <td>13</td>\n",
       "    </tr>\n",
       "    <tr>\n",
       "      <th>9</th>\n",
       "      <td>British Aid Worker Confirmed Murdered By ISIS</td>\n",
       "      <td>882</td>\n",
       "      <td>unrelated</td>\n",
       "      <td>7</td>\n",
       "    </tr>\n",
       "  </tbody>\n",
       "</table>\n",
       "</div>"
      ],
      "text/plain": [
       "                                                                                                              Headline  \\\n",
       "0  Police find mass graves with at least '15 bodies' near Mexico town where 43 students disappeared after police clash   \n",
       "1                                                    Hundreds of Palestinians flee floods in Gaza as Israel opens dams   \n",
       "2                          Christian Bale passes on role of Steve Jobs, actor reportedly felt he wasn't right for part   \n",
       "3                                   HBO and Apple in Talks for $15/Month Apple TV Streaming Service Launching in April   \n",
       "4                                                      Spider burrowed through tourist's stomach and up into his chest   \n",
       "5                'Nasa Confirms Earth Will Experience 6 Days of Total Darkness in December' Fake News Story Goes Viral   \n",
       "6                              Accused Boston Marathon Bomber Severely Injured In Prison, May Never Walk Or Talk Again   \n",
       "7                                                Identity of ISIS terrorist known as 'Jihadi John' reportedly revealed   \n",
       "8                                           Banksy 'Arrested & Real Identity Revealed' Is The Same Hoax From Last Year   \n",
       "9                                                                        British Aid Worker Confirmed Murdered By ISIS   \n",
       "\n",
       "   Body ID     Stance  n_words  \n",
       "0      712  unrelated       19  \n",
       "1      158      agree       11  \n",
       "2      137  unrelated       16  \n",
       "3     1034  unrelated       14  \n",
       "4     1923   disagree       10  \n",
       "5      154      agree       17  \n",
       "6      962  unrelated       14  \n",
       "7     2033  unrelated       10  \n",
       "8     1739      agree       13  \n",
       "9      882  unrelated        7  "
      ]
     },
     "execution_count": 7,
     "metadata": {},
     "output_type": "execute_result"
    }
   ],
   "source": [
    "stances.head(10)"
   ]
  },
  {
   "cell_type": "code",
   "execution_count": 12,
   "metadata": {},
   "outputs": [
    {
     "data": {
      "text/plain": [
       "10.0"
      ]
     },
     "execution_count": 12,
     "metadata": {},
     "output_type": "execute_result"
    }
   ],
   "source": [
    "# median word count per headline\n",
    "stances.n_words.median()"
   ]
  },
  {
   "cell_type": "code",
   "execution_count": 17,
   "metadata": {},
   "outputs": [
    {
     "data": {
      "image/png": "[encoded data removed]",
      "text/plain": [
       "<matplotlib.figure.Figure at 0x143857ae780>"
      ]
     },
     "metadata": {},
     "output_type": "display_data"
    }
   ],
   "source": [
    "# word count per headline\n",
    "stances.n_words.hist(bins=40, color='teal')\n",
    "plt.style.use('ggplot')"
   ]
  },
  {
   "cell_type": "code",
   "execution_count": 18,
   "metadata": {},
   "outputs": [
    {
     "data": {
      "text/plain": [
       "1683"
      ]
     },
     "execution_count": 18,
     "metadata": {},
     "output_type": "execute_result"
    }
   ],
   "source": [
    "# number of unique Body ID's (documents used as evidence for stance)\n",
    "stances['Body ID'].nunique()"
   ]
  },
  {
   "cell_type": "code",
   "execution_count": 19,
   "metadata": {},
   "outputs": [
    {
     "data": {
      "text/plain": [
       "unrelated    36545\n",
       "discuss       8909\n",
       "agree         3678\n",
       "disagree       840\n",
       "Name: Stance, dtype: int64"
      ]
     },
     "execution_count": 19,
     "metadata": {},
     "output_type": "execute_result"
    }
   ],
   "source": [
    "# class distribution\n",
    "stances.Stance.value_counts()"
   ]
  },
  {
   "cell_type": "code",
   "execution_count": 20,
   "metadata": {},
   "outputs": [
    {
     "data": {
      "text/plain": [
       "unrelated    0.731310\n",
       "discuss      0.178280\n",
       "agree        0.073601\n",
       "disagree     0.016809\n",
       "Name: Stance, dtype: float64"
      ]
     },
     "execution_count": 20,
     "metadata": {},
     "output_type": "execute_result"
    }
   ],
   "source": [
    "# normalized class distribution\n",
    "stance_dist = stances.Stance.value_counts(normalize=True)\n",
    "\n",
    "stance_dist"
   ]
  },
  {
   "cell_type": "code",
   "execution_count": 21,
   "metadata": {},
   "outputs": [
    {
     "data": {
      "image/png": "[encoded data removed]",
      "text/plain": [
       "<matplotlib.figure.Figure at 0x14385859630>"
      ]
     },
     "metadata": {},
     "output_type": "display_data"
    }
   ],
   "source": [
    "stance_dist.plot(kind='bar', color='teal')\n",
    "plt.style.use('ggplot')\n",
    "plt.xticks(rotation=0)\n",
    "plt.show()"
   ]
  },
  {
   "cell_type": "code",
   "execution_count": 22,
   "metadata": {
    "collapsed": true
   },
   "outputs": [],
   "source": [
    "# data exploration of the bodies file in train set\n",
    "bodies = pd.read_csv('fnc-data/train_bodies.csv')"
   ]
  },
  {
   "cell_type": "code",
   "execution_count": 23,
   "metadata": {},
   "outputs": [
    {
     "data": {
      "text/html": [
       "<div>\n",
       "<style>\n",
       "    .dataframe thead tr:only-child th {\n",
       "        text-align: right;\n",
       "    }\n",
       "\n",
       "    .dataframe thead th {\n",
       "        text-align: left;\n",
       "    }\n",
       "\n",
       "    .dataframe tbody tr th {\n",
       "        vertical-align: top;\n",
       "    }\n",
       "</style>\n",
       "<table border=\"1\" class=\"dataframe\">\n",
       "  <thead>\n",
       "    <tr style=\"text-align: right;\">\n",
       "      <th></th>\n",
       "      <th>Body ID</th>\n",
       "      <th>articleBody</th>\n",
       "    </tr>\n",
       "  </thead>\n",
       "  <tbody>\n",
       "    <tr>\n",
       "      <th>0</th>\n",
       "      <td>0</td>\n",
       "      <td>A small meteorite crashed into a wooded area in Nicaragua's capital of Managua overnight, the government said Sunday. Residents reported hearing a mysterious boom that left a 16-foot deep crater near the city's airport, the Associated Press reports. \\n\\nGovernment spokeswoman Rosario Murillo said a committee formed by the government to study the event determined it was a \"relatively small\" met...</td>\n",
       "    </tr>\n",
       "    <tr>\n",
       "      <th>1</th>\n",
       "      <td>4</td>\n",
       "      <td>Last week we hinted at what was to come as Ebola fears spread across America. Today, we get confirmation. As The Daily Caller reports, one passenger at Dulles International Airport outside Washington, D.C. is apparently not taking any chances. A female passenger dressed in a hazmat suit - complete with a full body gown, mask and gloves - was spotted Wednesday waiting for a flight at the airpor...</td>\n",
       "    </tr>\n",
       "    <tr>\n",
       "      <th>2</th>\n",
       "      <td>5</td>\n",
       "      <td>(NEWSER) – Wonder how long a Quarter Pounder with cheese can last? Two Australians say they bought a few McDonald's burgers for friends back in 1995, when they were teens, and one of the friends never showed up. So the kid's burger went uneaten—and stayed that way, Australia's News Network reports. \"We’re pretty sure it’s the oldest burger in the world,\" says one of the men, Casey Dean. Holdin...</td>\n",
       "    </tr>\n",
       "    <tr>\n",
       "      <th>3</th>\n",
       "      <td>6</td>\n",
       "      <td>Posting photos of a gun-toting child online, ISIS supporters announced that the group’s youngest soldier has died in combat.\\n\\nTwitter accounts linked to the Islamic State of Iraq and Al-Sham claimed that the child soldier “got martyred” with his father while fighting for the terrorist group in Syria.\\n\\nPhotos posted on Twitter showed the smiling boy in military fatigues holding weapons that...</td>\n",
       "    </tr>\n",
       "    <tr>\n",
       "      <th>4</th>\n",
       "      <td>7</td>\n",
       "      <td>At least 25 suspected Boko Haram insurgents were killed in clashes between soldiers and the Islamist militants in northeast Nigeria and five civilians were killed in fighting elsewhere in the region, a military source and residents said on Monday.\\n\\nA ceasefire agreement between Boko Haram and the Nigerian government was expected to lead to the liberation of more than 200 schoolgirls kidnappe...</td>\n",
       "    </tr>\n",
       "  </tbody>\n",
       "</table>\n",
       "</div>"
      ],
      "text/plain": [
       "   Body ID  \\\n",
       "0        0   \n",
       "1        4   \n",
       "2        5   \n",
       "3        6   \n",
       "4        7   \n",
       "\n",
       "                                                                                                                                                                                                                                                                                                                                                                                                       articleBody  \n",
       "0  A small meteorite crashed into a wooded area in Nicaragua's capital of Managua overnight, the government said Sunday. Residents reported hearing a mysterious boom that left a 16-foot deep crater near the city's airport, the Associated Press reports. \\n\\nGovernment spokeswoman Rosario Murillo said a committee formed by the government to study the event determined it was a \"relatively small\" met...  \n",
       "1  Last week we hinted at what was to come as Ebola fears spread across America. Today, we get confirmation. As The Daily Caller reports, one passenger at Dulles International Airport outside Washington, D.C. is apparently not taking any chances. A female passenger dressed in a hazmat suit - complete with a full body gown, mask and gloves - was spotted Wednesday waiting for a flight at the airpor...  \n",
       "2  (NEWSER) – Wonder how long a Quarter Pounder with cheese can last? Two Australians say they bought a few McDonald's burgers for friends back in 1995, when they were teens, and one of the friends never showed up. So the kid's burger went uneaten—and stayed that way, Australia's News Network reports. \"We’re pretty sure it’s the oldest burger in the world,\" says one of the men, Casey Dean. Holdin...  \n",
       "3  Posting photos of a gun-toting child online, ISIS supporters announced that the group’s youngest soldier has died in combat.\\n\\nTwitter accounts linked to the Islamic State of Iraq and Al-Sham claimed that the child soldier “got martyred” with his father while fighting for the terrorist group in Syria.\\n\\nPhotos posted on Twitter showed the smiling boy in military fatigues holding weapons that...  \n",
       "4  At least 25 suspected Boko Haram insurgents were killed in clashes between soldiers and the Islamist militants in northeast Nigeria and five civilians were killed in fighting elsewhere in the region, a military source and residents said on Monday.\\n\\nA ceasefire agreement between Boko Haram and the Nigerian government was expected to lead to the liberation of more than 200 schoolgirls kidnappe...  "
      ]
     },
     "execution_count": 23,
     "metadata": {},
     "output_type": "execute_result"
    }
   ],
   "source": [
    "bodies.head()"
   ]
  },
  {
   "cell_type": "code",
   "execution_count": 24,
   "metadata": {},
   "outputs": [
    {
     "data": {
      "text/plain": [
       "1683"
      ]
     },
     "execution_count": 24,
     "metadata": {},
     "output_type": "execute_result"
    }
   ],
   "source": [
    "# total number of articles (documents)\n",
    "# corresponds to the number of unique bodies in the stances file\n",
    "bodies.articleBody.count()"
   ]
  },
  {
   "cell_type": "code",
   "execution_count": 25,
   "metadata": {
    "collapsed": true
   },
   "outputs": [],
   "source": [
    "bodies['n_paraphs'] = 0\n",
    "\n",
    "for col, row in bodies.iterrows():\n",
    "    body = row['articleBody']\n",
    "    n_paras = len(body.split('\\n\\n'))\n",
    "    bodies.loc[col, 'n_paraphs'] = n_paras"
   ]
  },
  {
   "cell_type": "code",
   "execution_count": 26,
   "metadata": {},
   "outputs": [
    {
     "data": {
      "text/html": [
       "<div>\n",
       "<style>\n",
       "    .dataframe thead tr:only-child th {\n",
       "        text-align: right;\n",
       "    }\n",
       "\n",
       "    .dataframe thead th {\n",
       "        text-align: left;\n",
       "    }\n",
       "\n",
       "    .dataframe tbody tr th {\n",
       "        vertical-align: top;\n",
       "    }\n",
       "</style>\n",
       "<table border=\"1\" class=\"dataframe\">\n",
       "  <thead>\n",
       "    <tr style=\"text-align: right;\">\n",
       "      <th></th>\n",
       "      <th>Body ID</th>\n",
       "      <th>articleBody</th>\n",
       "      <th>n_paraphs</th>\n",
       "    </tr>\n",
       "  </thead>\n",
       "  <tbody>\n",
       "    <tr>\n",
       "      <th>0</th>\n",
       "      <td>0</td>\n",
       "      <td>A small meteorite crashed into a wooded area in Nicaragua's capital of Managua overnight, the government said Sunday. Residents reported hearing a mysterious boom that left a 16-foot deep crater near the city's airport, the Associated Press reports. \\n\\nGovernment spokeswoman Rosario Murillo said a committee formed by the government to study the event determined it was a \"relatively small\" met...</td>\n",
       "      <td>9</td>\n",
       "    </tr>\n",
       "    <tr>\n",
       "      <th>1</th>\n",
       "      <td>4</td>\n",
       "      <td>Last week we hinted at what was to come as Ebola fears spread across America. Today, we get confirmation. As The Daily Caller reports, one passenger at Dulles International Airport outside Washington, D.C. is apparently not taking any chances. A female passenger dressed in a hazmat suit - complete with a full body gown, mask and gloves - was spotted Wednesday waiting for a flight at the airpor...</td>\n",
       "      <td>7</td>\n",
       "    </tr>\n",
       "    <tr>\n",
       "      <th>2</th>\n",
       "      <td>5</td>\n",
       "      <td>(NEWSER) – Wonder how long a Quarter Pounder with cheese can last? Two Australians say they bought a few McDonald's burgers for friends back in 1995, when they were teens, and one of the friends never showed up. So the kid's burger went uneaten—and stayed that way, Australia's News Network reports. \"We’re pretty sure it’s the oldest burger in the world,\" says one of the men, Casey Dean. Holdin...</td>\n",
       "      <td>2</td>\n",
       "    </tr>\n",
       "    <tr>\n",
       "      <th>3</th>\n",
       "      <td>6</td>\n",
       "      <td>Posting photos of a gun-toting child online, ISIS supporters announced that the group’s youngest soldier has died in combat.\\n\\nTwitter accounts linked to the Islamic State of Iraq and Al-Sham claimed that the child soldier “got martyred” with his father while fighting for the terrorist group in Syria.\\n\\nPhotos posted on Twitter showed the smiling boy in military fatigues holding weapons that...</td>\n",
       "      <td>13</td>\n",
       "    </tr>\n",
       "    <tr>\n",
       "      <th>4</th>\n",
       "      <td>7</td>\n",
       "      <td>At least 25 suspected Boko Haram insurgents were killed in clashes between soldiers and the Islamist militants in northeast Nigeria and five civilians were killed in fighting elsewhere in the region, a military source and residents said on Monday.\\n\\nA ceasefire agreement between Boko Haram and the Nigerian government was expected to lead to the liberation of more than 200 schoolgirls kidnappe...</td>\n",
       "      <td>12</td>\n",
       "    </tr>\n",
       "    <tr>\n",
       "      <th>5</th>\n",
       "      <td>8</td>\n",
       "      <td>There is so much fake stuff on the Internet in any given week that we’ve grown tired of debunking it all. Fake Twitter fights. Fake DHL ads. Amazing viral video? Nope — a Jimmy Kimmel stunt!\\n\\nSo, rather than take down each and every undeservedly viral story that crosses our monitors each week, we’re rounding them all up in a quick, once-a-week Friday debunk of fake photos, misleading headlin...</td>\n",
       "      <td>20</td>\n",
       "    </tr>\n",
       "    <tr>\n",
       "      <th>6</th>\n",
       "      <td>9</td>\n",
       "      <td>(CNN) -- A meteorite crashed down in Managua, Nicaragua, late Saturday night, causing a loud explosion and leaving a crater 39 feet (12 meters) across, government officials said, according to The Associated Press. No damage or injuries were reported.\\n\\nAP quoted government spokeswoman Rosario Murillo as saying they've determined it was a \"relatively small\" meteorite that \"appears to have come...</td>\n",
       "      <td>14</td>\n",
       "    </tr>\n",
       "    <tr>\n",
       "      <th>7</th>\n",
       "      <td>10</td>\n",
       "      <td>Move over, Netflix and Hulu.\\nWord has it that Amazon is looking to launch an ad-supported streaming video service, which could give rivals a run for their money. The online retail giant is planning to roll out the new service early next year, the New York Post reported on Friday. It would be separate from Amazon's $99 yearly Prime membership, which offers unlimited movie streaming from the In...</td>\n",
       "      <td>1</td>\n",
       "    </tr>\n",
       "    <tr>\n",
       "      <th>8</th>\n",
       "      <td>11</td>\n",
       "      <td>We’ve all seen the traditional depictions of God as a cloud-dwelling figure with a flowing mane and a white beard.\\n\\nBut now, a Catholic priest in America has apparently claimed that God is female, after he officially died for 48 minutes following a massive heart attack.\\n\\nAccording to an unverified report, Father John Micheal O’Neal, 71, briefly went to heaven and met a ‘warm and comforting...</td>\n",
       "      <td>12</td>\n",
       "    </tr>\n",
       "    <tr>\n",
       "      <th>9</th>\n",
       "      <td>13</td>\n",
       "      <td>A SOLDIER has been shot at Canada’s National War Memorial with witnesses saying a gunman than ran to the nation’s parliament.\\n\\nCanada’s parliament is in lockdown following the gunfire with heavily armed police racing to seal off the building and the office of Canadian Prime Minister Stephen Harper..\\n\\nCanadian media is reporting that a soldier has been wounded in the attack.\\n\\n— More to come</td>\n",
       "      <td>4</td>\n",
       "    </tr>\n",
       "  </tbody>\n",
       "</table>\n",
       "</div>"
      ],
      "text/plain": [
       "   Body ID  \\\n",
       "0        0   \n",
       "1        4   \n",
       "2        5   \n",
       "3        6   \n",
       "4        7   \n",
       "5        8   \n",
       "6        9   \n",
       "7       10   \n",
       "8       11   \n",
       "9       13   \n",
       "\n",
       "                                                                                                                                                                                                                                                                                                                                                                                                       articleBody  \\\n",
       "0  A small meteorite crashed into a wooded area in Nicaragua's capital of Managua overnight, the government said Sunday. Residents reported hearing a mysterious boom that left a 16-foot deep crater near the city's airport, the Associated Press reports. \\n\\nGovernment spokeswoman Rosario Murillo said a committee formed by the government to study the event determined it was a \"relatively small\" met...   \n",
       "1  Last week we hinted at what was to come as Ebola fears spread across America. Today, we get confirmation. As The Daily Caller reports, one passenger at Dulles International Airport outside Washington, D.C. is apparently not taking any chances. A female passenger dressed in a hazmat suit - complete with a full body gown, mask and gloves - was spotted Wednesday waiting for a flight at the airpor...   \n",
       "2  (NEWSER) – Wonder how long a Quarter Pounder with cheese can last? Two Australians say they bought a few McDonald's burgers for friends back in 1995, when they were teens, and one of the friends never showed up. So the kid's burger went uneaten—and stayed that way, Australia's News Network reports. \"We’re pretty sure it’s the oldest burger in the world,\" says one of the men, Casey Dean. Holdin...   \n",
       "3  Posting photos of a gun-toting child online, ISIS supporters announced that the group’s youngest soldier has died in combat.\\n\\nTwitter accounts linked to the Islamic State of Iraq and Al-Sham claimed that the child soldier “got martyred” with his father while fighting for the terrorist group in Syria.\\n\\nPhotos posted on Twitter showed the smiling boy in military fatigues holding weapons that...   \n",
       "4  At least 25 suspected Boko Haram insurgents were killed in clashes between soldiers and the Islamist militants in northeast Nigeria and five civilians were killed in fighting elsewhere in the region, a military source and residents said on Monday.\\n\\nA ceasefire agreement between Boko Haram and the Nigerian government was expected to lead to the liberation of more than 200 schoolgirls kidnappe...   \n",
       "5  There is so much fake stuff on the Internet in any given week that we’ve grown tired of debunking it all. Fake Twitter fights. Fake DHL ads. Amazing viral video? Nope — a Jimmy Kimmel stunt!\\n\\nSo, rather than take down each and every undeservedly viral story that crosses our monitors each week, we’re rounding them all up in a quick, once-a-week Friday debunk of fake photos, misleading headlin...   \n",
       "6  (CNN) -- A meteorite crashed down in Managua, Nicaragua, late Saturday night, causing a loud explosion and leaving a crater 39 feet (12 meters) across, government officials said, according to The Associated Press. No damage or injuries were reported.\\n\\nAP quoted government spokeswoman Rosario Murillo as saying they've determined it was a \"relatively small\" meteorite that \"appears to have come...   \n",
       "7  Move over, Netflix and Hulu.\\nWord has it that Amazon is looking to launch an ad-supported streaming video service, which could give rivals a run for their money. The online retail giant is planning to roll out the new service early next year, the New York Post reported on Friday. It would be separate from Amazon's $99 yearly Prime membership, which offers unlimited movie streaming from the In...   \n",
       "8  We’ve all seen the traditional depictions of God as a cloud-dwelling figure with a flowing mane and a white beard.\\n\\nBut now, a Catholic priest in America has apparently claimed that God is female, after he officially died for 48 minutes following a massive heart attack.\\n\\nAccording to an unverified report, Father John Micheal O’Neal, 71, briefly went to heaven and met a ‘warm and comforting...   \n",
       "9   A SOLDIER has been shot at Canada’s National War Memorial with witnesses saying a gunman than ran to the nation’s parliament.\\n\\nCanada’s parliament is in lockdown following the gunfire with heavily armed police racing to seal off the building and the office of Canadian Prime Minister Stephen Harper..\\n\\nCanadian media is reporting that a soldier has been wounded in the attack.\\n\\n— More to come   \n",
       "\n",
       "   n_paraphs  \n",
       "0          9  \n",
       "1          7  \n",
       "2          2  \n",
       "3         13  \n",
       "4         12  \n",
       "5         20  \n",
       "6         14  \n",
       "7          1  \n",
       "8         12  \n",
       "9          4  "
      ]
     },
     "execution_count": 26,
     "metadata": {},
     "output_type": "execute_result"
    }
   ],
   "source": [
    "bodies.head(10)"
   ]
  },
  {
   "cell_type": "code",
   "execution_count": 28,
   "metadata": {},
   "outputs": [
    {
     "data": {
      "text/plain": [
       "9.0"
      ]
     },
     "execution_count": 28,
     "metadata": {},
     "output_type": "execute_result"
    }
   ],
   "source": [
    "# median number of paragraphs per article body\n",
    "bodies.n_paraphs.median()"
   ]
  },
  {
   "cell_type": "code",
   "execution_count": 29,
   "metadata": {},
   "outputs": [
    {
     "data": {
      "image/png": "[encoded data removed]",
      "text/plain": [
       "<matplotlib.figure.Figure at 0x143868b7550>"
      ]
     },
     "metadata": {},
     "output_type": "display_data"
    }
   ],
   "source": [
    "# paragraph count per headline\n",
    "bodies.n_paraphs.hist(bins=118, color='teal')\n",
    "plt.style.use('ggplot')"
   ]
  },
  {
   "cell_type": "code",
   "execution_count": 30,
   "metadata": {
    "collapsed": true
   },
   "outputs": [],
   "source": [
    "pars = split_paraphs(bodies)"
   ]
  },
  {
   "cell_type": "code",
   "execution_count": 31,
   "metadata": {},
   "outputs": [
    {
     "data": {
      "text/html": [
       "<div>\n",
       "<style>\n",
       "    .dataframe thead tr:only-child th {\n",
       "        text-align: right;\n",
       "    }\n",
       "\n",
       "    .dataframe thead th {\n",
       "        text-align: left;\n",
       "    }\n",
       "\n",
       "    .dataframe tbody tr th {\n",
       "        vertical-align: top;\n",
       "    }\n",
       "</style>\n",
       "<table border=\"1\" class=\"dataframe\">\n",
       "  <thead>\n",
       "    <tr style=\"text-align: right;\">\n",
       "      <th></th>\n",
       "      <th>Body ID</th>\n",
       "      <th>Paragraph</th>\n",
       "    </tr>\n",
       "  </thead>\n",
       "  <tbody>\n",
       "    <tr>\n",
       "      <th>18619</th>\n",
       "      <td>2531</td>\n",
       "      <td>Qatar gained public praise from President Barack Obama for brokering the controversial deal in May 2014 that freed Army Sgt. Bergdahl from Taliban captivity in exchange for the release of the five senior Taliban officials who had been imprisoned for years at the US-run Guantanamo Bay prison in Cuba.</td>\n",
       "    </tr>\n",
       "    <tr>\n",
       "      <th>18620</th>\n",
       "      <td>2531</td>\n",
       "      <td>Qatar promised Mr Obama it would keep the five under watch for one year, although they would then be free to leave.</td>\n",
       "    </tr>\n",
       "    <tr>\n",
       "      <th>18621</th>\n",
       "      <td>2531</td>\n",
       "      <td>\"It's just a year deal,\" Mr Graham told The Associated Press on Wednesday. \"Just as sure as we're sitting here, they're going back to the fight.\"</td>\n",
       "    </tr>\n",
       "    <tr>\n",
       "      <th>18622</th>\n",
       "      <td>2531</td>\n",
       "      <td>\"They've had some Haqqani people come to meet with them. ... They're reaching out. The Taliban five are communicating with people inside Afghanistan.\"</td>\n",
       "    </tr>\n",
       "    <tr>\n",
       "      <th>18623</th>\n",
       "      <td>2531</td>\n",
       "      <td>However, Mr Graham, a member of the Senate Armed Services Committee and a leading Capitol Hill voice on foreign policy, said all five are still in Qatar.</td>\n",
       "    </tr>\n",
       "    <tr>\n",
       "      <th>18624</th>\n",
       "      <td>2531</td>\n",
       "      <td>\"I was afraid one had left, but they told me they're all still there,\" he said.</td>\n",
       "    </tr>\n",
       "    <tr>\n",
       "      <th>18625</th>\n",
       "      <td>2531</td>\n",
       "      <td>The Pentagon said in a statement that it would not comment on specific cases involving the detainees.</td>\n",
       "    </tr>\n",
       "    <tr>\n",
       "      <th>18626</th>\n",
       "      <td>2531</td>\n",
       "      <td>\"However, we take any incidence of re-engagement very seriously, and we work in close coordination through military, intelligence, law enforcement and diplomatic channels to mitigate re-engagement and to take follow-on action when necessary,\" the statement said. \"The Defense Department has a close security partnership with the government of Qatar. We're confident in our ability to continue to ...</td>\n",
       "    </tr>\n",
       "    <tr>\n",
       "      <th>18627</th>\n",
       "      <td>2531</td>\n",
       "      <td>Haqqani operates in the Afghanistan-Pakistan border region and has been one of the deadliest threats to US troops in the war. The network, which the State Department designated as a foreign terrorist organisation in 2012, claims allegiance to the Afghan Taliban, yet operates with some degree of autonomy.</td>\n",
       "    </tr>\n",
       "    <tr>\n",
       "      <th>18628</th>\n",
       "      <td>2532</td>\n",
       "      <td>ANN ARBOR, Mich. – A pizza delivery man in Michigan got a huge surprise when he made a special delivery to a hotel last week.\\n“Rob”, the delivery driver, thought he was dropping off food for a guest, but he was escorted to a conference room where 200 Keller Williams realtors were holding their annual conference.\\nThey surprised him with a tip of more than $2,000 plus a VISA gift card, some lo...</td>\n",
       "    </tr>\n",
       "  </tbody>\n",
       "</table>\n",
       "</div>"
      ],
      "text/plain": [
       "       Body ID  \\\n",
       "18619     2531   \n",
       "18620     2531   \n",
       "18621     2531   \n",
       "18622     2531   \n",
       "18623     2531   \n",
       "18624     2531   \n",
       "18625     2531   \n",
       "18626     2531   \n",
       "18627     2531   \n",
       "18628     2532   \n",
       "\n",
       "                                                                                                                                                                                                                                                                                                                                                                                                             Paragraph  \n",
       "18619                                                                                                     Qatar gained public praise from President Barack Obama for brokering the controversial deal in May 2014 that freed Army Sgt. Bergdahl from Taliban captivity in exchange for the release of the five senior Taliban officials who had been imprisoned for years at the US-run Guantanamo Bay prison in Cuba.  \n",
       "18620                                                                                                                                                                                                                                                                                              Qatar promised Mr Obama it would keep the five under watch for one year, although they would then be free to leave.  \n",
       "18621                                                                                                                                                                                                                                                                \"It's just a year deal,\" Mr Graham told The Associated Press on Wednesday. \"Just as sure as we're sitting here, they're going back to the fight.\"  \n",
       "18622                                                                                                                                                                                                                                                           \"They've had some Haqqani people come to meet with them. ... They're reaching out. The Taliban five are communicating with people inside Afghanistan.\"  \n",
       "18623                                                                                                                                                                                                                                                        However, Mr Graham, a member of the Senate Armed Services Committee and a leading Capitol Hill voice on foreign policy, said all five are still in Qatar.  \n",
       "18624                                                                                                                                                                                                                                                                                                                                  \"I was afraid one had left, but they told me they're all still there,\" he said.  \n",
       "18625                                                                                                                                                                                                                                                                                                            The Pentagon said in a statement that it would not comment on specific cases involving the detainees.  \n",
       "18626  \"However, we take any incidence of re-engagement very seriously, and we work in close coordination through military, intelligence, law enforcement and diplomatic channels to mitigate re-engagement and to take follow-on action when necessary,\" the statement said. \"The Defense Department has a close security partnership with the government of Qatar. We're confident in our ability to continue to ...  \n",
       "18627                                                                                                Haqqani operates in the Afghanistan-Pakistan border region and has been one of the deadliest threats to US troops in the war. The network, which the State Department designated as a foreign terrorist organisation in 2012, claims allegiance to the Afghan Taliban, yet operates with some degree of autonomy.  \n",
       "18628  ANN ARBOR, Mich. – A pizza delivery man in Michigan got a huge surprise when he made a special delivery to a hotel last week.\\n“Rob”, the delivery driver, thought he was dropping off food for a guest, but he was escorted to a conference room where 200 Keller Williams realtors were holding their annual conference.\\nThey surprised him with a tip of more than $2,000 plus a VISA gift card, some lo...  "
      ]
     },
     "execution_count": 31,
     "metadata": {},
     "output_type": "execute_result"
    }
   ],
   "source": [
    "df_pars = pd.DataFrame(pars, columns=['Body ID', 'Paragraph'])\n",
    "df_pars.tail(10)"
   ]
  },
  {
   "cell_type": "code",
   "execution_count": 32,
   "metadata": {},
   "outputs": [],
   "source": [
    "df_pars['n_words'] = 0\n",
    "\n",
    "for col, row in df_pars.iterrows():\n",
    "    par = row['Paragraph']\n",
    "    n_words = len(par.split())\n",
    "    df_pars.loc[col, 'n_words'] = n_words"
   ]
  },
  {
   "cell_type": "code",
   "execution_count": 33,
   "metadata": {},
   "outputs": [
    {
     "data": {
      "text/html": [
       "<div>\n",
       "<style>\n",
       "    .dataframe thead tr:only-child th {\n",
       "        text-align: right;\n",
       "    }\n",
       "\n",
       "    .dataframe thead th {\n",
       "        text-align: left;\n",
       "    }\n",
       "\n",
       "    .dataframe tbody tr th {\n",
       "        vertical-align: top;\n",
       "    }\n",
       "</style>\n",
       "<table border=\"1\" class=\"dataframe\">\n",
       "  <thead>\n",
       "    <tr style=\"text-align: right;\">\n",
       "      <th></th>\n",
       "      <th>Body ID</th>\n",
       "      <th>Paragraph</th>\n",
       "      <th>n_words</th>\n",
       "    </tr>\n",
       "  </thead>\n",
       "  <tbody>\n",
       "    <tr>\n",
       "      <th>18619</th>\n",
       "      <td>2531</td>\n",
       "      <td>Qatar gained public praise from President Barack Obama for brokering the controversial deal in May 2014 that freed Army Sgt. Bergdahl from Taliban captivity in exchange for the release of the five senior Taliban officials who had been imprisoned for years at the US-run Guantanamo Bay prison in Cuba.</td>\n",
       "      <td>49</td>\n",
       "    </tr>\n",
       "    <tr>\n",
       "      <th>18620</th>\n",
       "      <td>2531</td>\n",
       "      <td>Qatar promised Mr Obama it would keep the five under watch for one year, although they would then be free to leave.</td>\n",
       "      <td>22</td>\n",
       "    </tr>\n",
       "    <tr>\n",
       "      <th>18621</th>\n",
       "      <td>2531</td>\n",
       "      <td>\"It's just a year deal,\" Mr Graham told The Associated Press on Wednesday. \"Just as sure as we're sitting here, they're going back to the fight.\"</td>\n",
       "      <td>26</td>\n",
       "    </tr>\n",
       "    <tr>\n",
       "      <th>18622</th>\n",
       "      <td>2531</td>\n",
       "      <td>\"They've had some Haqqani people come to meet with them. ... They're reaching out. The Taliban five are communicating with people inside Afghanistan.\"</td>\n",
       "      <td>23</td>\n",
       "    </tr>\n",
       "    <tr>\n",
       "      <th>18623</th>\n",
       "      <td>2531</td>\n",
       "      <td>However, Mr Graham, a member of the Senate Armed Services Committee and a leading Capitol Hill voice on foreign policy, said all five are still in Qatar.</td>\n",
       "      <td>27</td>\n",
       "    </tr>\n",
       "    <tr>\n",
       "      <th>18624</th>\n",
       "      <td>2531</td>\n",
       "      <td>\"I was afraid one had left, but they told me they're all still there,\" he said.</td>\n",
       "      <td>16</td>\n",
       "    </tr>\n",
       "    <tr>\n",
       "      <th>18625</th>\n",
       "      <td>2531</td>\n",
       "      <td>The Pentagon said in a statement that it would not comment on specific cases involving the detainees.</td>\n",
       "      <td>17</td>\n",
       "    </tr>\n",
       "    <tr>\n",
       "      <th>18626</th>\n",
       "      <td>2531</td>\n",
       "      <td>\"However, we take any incidence of re-engagement very seriously, and we work in close coordination through military, intelligence, law enforcement and diplomatic channels to mitigate re-engagement and to take follow-on action when necessary,\" the statement said. \"The Defense Department has a close security partnership with the government of Qatar. We're confident in our ability to continue to ...</td>\n",
       "      <td>69</td>\n",
       "    </tr>\n",
       "    <tr>\n",
       "      <th>18627</th>\n",
       "      <td>2531</td>\n",
       "      <td>Haqqani operates in the Afghanistan-Pakistan border region and has been one of the deadliest threats to US troops in the war. The network, which the State Department designated as a foreign terrorist organisation in 2012, claims allegiance to the Afghan Taliban, yet operates with some degree of autonomy.</td>\n",
       "      <td>48</td>\n",
       "    </tr>\n",
       "    <tr>\n",
       "      <th>18628</th>\n",
       "      <td>2532</td>\n",
       "      <td>ANN ARBOR, Mich. – A pizza delivery man in Michigan got a huge surprise when he made a special delivery to a hotel last week.\\n“Rob”, the delivery driver, thought he was dropping off food for a guest, but he was escorted to a conference room where 200 Keller Williams realtors were holding their annual conference.\\nThey surprised him with a tip of more than $2,000 plus a VISA gift card, some lo...</td>\n",
       "      <td>96</td>\n",
       "    </tr>\n",
       "  </tbody>\n",
       "</table>\n",
       "</div>"
      ],
      "text/plain": [
       "       Body ID  \\\n",
       "18619     2531   \n",
       "18620     2531   \n",
       "18621     2531   \n",
       "18622     2531   \n",
       "18623     2531   \n",
       "18624     2531   \n",
       "18625     2531   \n",
       "18626     2531   \n",
       "18627     2531   \n",
       "18628     2532   \n",
       "\n",
       "                                                                                                                                                                                                                                                                                                                                                                                                             Paragraph  \\\n",
       "18619                                                                                                     Qatar gained public praise from President Barack Obama for brokering the controversial deal in May 2014 that freed Army Sgt. Bergdahl from Taliban captivity in exchange for the release of the five senior Taliban officials who had been imprisoned for years at the US-run Guantanamo Bay prison in Cuba.   \n",
       "18620                                                                                                                                                                                                                                                                                              Qatar promised Mr Obama it would keep the five under watch for one year, although they would then be free to leave.   \n",
       "18621                                                                                                                                                                                                                                                                \"It's just a year deal,\" Mr Graham told The Associated Press on Wednesday. \"Just as sure as we're sitting here, they're going back to the fight.\"   \n",
       "18622                                                                                                                                                                                                                                                           \"They've had some Haqqani people come to meet with them. ... They're reaching out. The Taliban five are communicating with people inside Afghanistan.\"   \n",
       "18623                                                                                                                                                                                                                                                        However, Mr Graham, a member of the Senate Armed Services Committee and a leading Capitol Hill voice on foreign policy, said all five are still in Qatar.   \n",
       "18624                                                                                                                                                                                                                                                                                                                                  \"I was afraid one had left, but they told me they're all still there,\" he said.   \n",
       "18625                                                                                                                                                                                                                                                                                                            The Pentagon said in a statement that it would not comment on specific cases involving the detainees.   \n",
       "18626  \"However, we take any incidence of re-engagement very seriously, and we work in close coordination through military, intelligence, law enforcement and diplomatic channels to mitigate re-engagement and to take follow-on action when necessary,\" the statement said. \"The Defense Department has a close security partnership with the government of Qatar. We're confident in our ability to continue to ...   \n",
       "18627                                                                                                Haqqani operates in the Afghanistan-Pakistan border region and has been one of the deadliest threats to US troops in the war. The network, which the State Department designated as a foreign terrorist organisation in 2012, claims allegiance to the Afghan Taliban, yet operates with some degree of autonomy.   \n",
       "18628  ANN ARBOR, Mich. – A pizza delivery man in Michigan got a huge surprise when he made a special delivery to a hotel last week.\\n“Rob”, the delivery driver, thought he was dropping off food for a guest, but he was escorted to a conference room where 200 Keller Williams realtors were holding their annual conference.\\nThey surprised him with a tip of more than $2,000 plus a VISA gift card, some lo...   \n",
       "\n",
       "       n_words  \n",
       "18619       49  \n",
       "18620       22  \n",
       "18621       26  \n",
       "18622       23  \n",
       "18623       27  \n",
       "18624       16  \n",
       "18625       17  \n",
       "18626       69  \n",
       "18627       48  \n",
       "18628       96  "
      ]
     },
     "execution_count": 33,
     "metadata": {},
     "output_type": "execute_result"
    }
   ],
   "source": [
    "df_pars.tail(10)"
   ]
  },
  {
   "cell_type": "code",
   "execution_count": 34,
   "metadata": {},
   "outputs": [
    {
     "data": {
      "text/plain": [
       "27.0"
      ]
     },
     "execution_count": 34,
     "metadata": {},
     "output_type": "execute_result"
    }
   ],
   "source": [
    "# median number of words per paragraph\n",
    "df_pars.n_words.median()"
   ]
  },
  {
   "cell_type": "code",
   "execution_count": 35,
   "metadata": {},
   "outputs": [
    {
     "data": {
      "text/plain": [
       "1563"
      ]
     },
     "execution_count": 35,
     "metadata": {},
     "output_type": "execute_result"
    }
   ],
   "source": [
    "# mean number of words per paragraph\n",
    "df_pars.n_words.max()"
   ]
  },
  {
   "cell_type": "code",
   "execution_count": 36,
   "metadata": {},
   "outputs": [
    {
     "data": {
      "image/png": "[encoded data removed]",
      "text/plain": [
       "<matplotlib.figure.Figure at 0x1438689c048>"
      ]
     },
     "metadata": {},
     "output_type": "display_data"
    }
   ],
   "source": [
    "# word count per paragraph\n",
    "df_pars.n_words.hist(bins=1563, color='teal')\n",
    "plt.style.use('ggplot')"
   ]
  }
 ],
 "metadata": {
  "kernelspec": {
   "display_name": "Python 3",
   "language": "python",
   "name": "python3"
  },
  "language_info": {
   "codemirror_mode": {
    "name": "ipython",
    "version": 3
   },
   "file_extension": ".py",
   "mimetype": "text/x-python",
   "name": "python",
   "nbconvert_exporter": "python",
   "pygments_lexer": "ipython3",
   "version": "3.6.3"
  }
 },
 "nbformat": 4,
 "nbformat_minor": 2
}
