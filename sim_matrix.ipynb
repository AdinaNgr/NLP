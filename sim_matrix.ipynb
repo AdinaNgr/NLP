{
 "cells": [
  {
   "cell_type": "code",
   "execution_count": 1,
   "metadata": {},
   "outputs": [
    {
     "name": "stderr",
     "output_type": "stream",
     "text": [
      "C:\\Anaconda3\\lib\\site-packages\\gensim\\utils.py:1197: UserWarning: detected Windows; aliasing chunkize to chunkize_serial\n",
      "  warnings.warn(\"detected Windows; aliasing chunkize to chunkize_serial\")\n"
     ]
    }
   ],
   "source": [
    "#!/usr/bin/env python\n",
    "# -*- coding: utf-8 -*-\n",
    "\n",
    "'''\n",
    "\n",
    "This script just show the basic workflow to compute TF-IDF similarity matrix with Gensim \n",
    "\n",
    "\n",
    "OUTPUT :\n",
    "\n",
    "clemsos@miner $ python gensim_workflow.py \n",
    "\n",
    "\n",
    "How to use Gensim to compute TF-IDF similarity step by step\n",
    "----------\n",
    "Let's start with a raw corpus :<type 'list'>\n",
    "\n",
    "STEP 1 : Index and vectorize\n",
    "----------\n",
    "We create a dictionary, an index of all unique values: <class 'gensim.corpora.dictionary.Dictionary'>\n",
    "Then convert convert tokenized documents to vectors: <type 'list'>\n",
    "Save the vectorized corpus as a .mm file\n",
    "\n",
    "STEP 2 : Transform and compute similarity between corpuses\n",
    "----------\n",
    "We load our dictionary : <class 'gensim.corpora.dictionary.Dictionary'>\n",
    "We load our vector corpus : <class 'gensim.corpora.mmcorpus.MmCorpus'> \n",
    "We initialize our TF-IDF transformation tool : <class 'gensim.models.tfidfmodel.TfidfModel'>\n",
    "We convert our vectors corpus to TF-IDF space : <class 'gensim.interfaces.TransformedCorpus'>\n",
    "\n",
    "STEP 3 : Create similarity matrix of all files\n",
    "----------\n",
    "We compute similarities from the TF-IDF corpus : <class 'gensim.similarities.docsim.MatrixSimilarity'>\n",
    "We get a similarity matrix for all documents in the corpus <type 'numpy.ndarray'>\n",
    "\n",
    "Done in 0.011s\n",
    "\n",
    "'''\n",
    "from gensim import corpora, models, similarities\n",
    "from time import time\n",
    "\n",
    "t0=time()\n",
    "\n",
    "# keywords have been extracted and stopwords removed.\n",
    "\n",
    "tweets=[['human', 'interface', 'computer'],\n",
    " ['survey', 'user', 'computer', 'system', 'response', 'time'],\n",
    " ['eps', 'user', 'interface', 'system'],\n",
    " ['system', 'human', 'system', 'eps'],\n",
    " ['user', 'response', 'time'],\n",
    " ['trees'],\n",
    " ['graph', 'trees'],\n",
    " ['graph', 'minors', 'trees'],\n",
    " ['graph', 'minors', 'survey']] "
   ]
  },
  {
   "cell_type": "code",
   "execution_count": 2,
   "metadata": {},
   "outputs": [],
   "source": [
    "# print(\"How to use Gensim to compute TF-IDF similarity step by step\")\n",
    "# print('-'*10)/\n",
    "# print(\"Let's start with a raw corpus :%s\"%type(tweets))\n",
    "# print()\n",
    "# STEP 1 : Compile corpus and dictionary\n",
    "# print(\"STEP 1 : Index and vectorize\")\n",
    "# print('-'*10)\n",
    "\n",
    "# create dictionary (index of each element)\n",
    "dictionary = corpora.Dictionary(tweets)\n",
    "dictionary.save('/tmp/tweets.dict') # store the dictionary, for future reference\n",
    "# print(\"We create a dictionary, an index of all unique values: %s\"%type(dictionary))"
   ]
  },
  {
   "cell_type": "code",
   "execution_count": 3,
   "metadata": {},
   "outputs": [],
   "source": [
    "# compile corpus (vectors number of times each elements appears)\n",
    "raw_corpus = [dictionary.doc2bow(t) for t in tweets]\n",
    "# print(\"Then convert convert tokenized documents to vectors: %s\"% type(raw_corpus))\n",
    "corpora.MmCorpus.serialize('/tmp/tweets.mm', raw_corpus) # store to disk\n",
    "# print(\"Save the vectorized corpus as a .mm file\")\n",
    "# print()"
   ]
  },
  {
   "cell_type": "code",
   "execution_count": 4,
   "metadata": {},
   "outputs": [],
   "source": [
    "# STEP 2 : similarity between corpuses\n",
    "# print(\"STEP 2 : Transform and compute similarity between corpuses\")\n",
    "# print('-'*10)\n",
    "dictionary = corpora.Dictionary.load('/tmp/tweets.dict')\n",
    "# print(\"We load our dictionary : %s\"% type(dictionary))"
   ]
  },
  {
   "cell_type": "code",
   "execution_count": 6,
   "metadata": {},
   "outputs": [],
   "source": [
    "corpus = corpora.MmCorpus('/tmp/tweets.mm')\n",
    "# print(\"We load our vector corpus : %s \"% type(corpus)) "
   ]
  },
  {
   "cell_type": "code",
   "execution_count": 7,
   "metadata": {},
   "outputs": [],
   "source": [
    "# Transform Text with TF-IDF\n",
    "tfidf = models.TfidfModel(corpus) # step 1 -- initialize a model\n",
    "# print(\"We initialize our TF-IDF transformation tool : %s\"%type(tfidf))"
   ]
  },
  {
   "cell_type": "code",
   "execution_count": 8,
   "metadata": {},
   "outputs": [],
   "source": [
    "# corpus tf-idf\n",
    "corpus_tfidf = tfidf[corpus]\n",
    "# print(\"We convert our vectors corpus to TF-IDF space : %s\"%type(corpus_tfidf))\n",
    "# print()"
   ]
  },
  {
   "cell_type": "code",
   "execution_count": 9,
   "metadata": {},
   "outputs": [],
   "source": [
    "# STEP 3 : Create similarity matrix of all files\n",
    "# print(\"STEP 3 : Create similarity matrix of all files\")\n",
    "# print('-'*10)\n",
    "index = similarities.MatrixSimilarity(tfidf[corpus])\n",
    "# print(\"We compute similarities from the TF-IDF corpus : %s\"%type(index))\n",
    "index.save('/tmp/deerwester.index')\n",
    "index = similarities.MatrixSimilarity.load('/tmp/deerwester.index')"
   ]
  },
  {
   "cell_type": "code",
   "execution_count": 10,
   "metadata": {},
   "outputs": [],
   "source": [
    "sims = index[corpus_tfidf]\n",
    "# print(\"We get a similarity matrix for all documents in the corpus %s\"% type(sims))\n",
    "# print() \n",
    "# print(\"Done in %.3fs\"%(time()-t0))"
   ]
  },
  {
   "cell_type": "code",
   "execution_count": 12,
   "metadata": {},
   "outputs": [
    {
     "data": {
      "text/plain": [
       "array([[0.99999994, 0.25648525, 0.32967046, 0.28395563, 0.        ,\n",
       "        0.        , 0.        , 0.        , 0.        ],\n",
       "       [0.25648525, 1.        , 0.27067134, 0.23313783, 0.7071068 ,\n",
       "        0.        , 0.        , 0.        , 0.27910084],\n",
       "       [0.32967046, 0.27067134, 1.        , 0.58049643, 0.19139352,\n",
       "        0.        , 0.        , 0.        , 0.        ],\n",
       "       [0.28395563, 0.23313783, 0.58049643, 1.        , 0.        ,\n",
       "        0.        , 0.        , 0.        , 0.        ],\n",
       "       [0.        , 0.7071068 , 0.19139352, 0.        , 1.        ,\n",
       "        0.        , 0.        , 0.        , 0.        ],\n",
       "       [0.        , 0.        , 0.        , 0.        , 0.        ,\n",
       "        1.        , 0.70710677, 0.5080429 , 0.        ],\n",
       "       [0.        , 0.        , 0.        , 0.        , 0.        ,\n",
       "        0.70710677, 0.99999994, 0.7184811 , 0.32448703],\n",
       "       [0.        , 0.        , 0.        , 0.        , 0.        ,\n",
       "        0.5080429 , 0.7184811 , 1.        , 0.6701205 ],\n",
       "       [0.        , 0.27910084, 0.        , 0.        , 0.        ,\n",
       "        0.        , 0.32448703, 0.6701205 , 1.        ]], dtype=float32)"
      ]
     },
     "execution_count": 12,
     "metadata": {},
     "output_type": "execute_result"
    }
   ],
   "source": [
    "sims"
   ]
  }
 ],
 "metadata": {
  "kernelspec": {
   "display_name": "Python 3",
   "language": "python",
   "name": "python3"
  },
  "language_info": {
   "codemirror_mode": {
    "name": "ipython",
    "version": 3
   },
   "file_extension": ".py",
   "mimetype": "text/x-python",
   "name": "python",
   "nbconvert_exporter": "python",
   "pygments_lexer": "ipython3",
   "version": "3.6.5"
  }
 },
 "nbformat": 4,
 "nbformat_minor": 2
}
