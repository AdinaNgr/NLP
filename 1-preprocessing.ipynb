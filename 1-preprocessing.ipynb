{
 "cells": [
  {
   "cell_type": "code",
   "execution_count": 1,
   "metadata": {},
   "outputs": [],
   "source": [
    "import os"
   ]
  },
  {
   "cell_type": "code",
   "execution_count": 2,
   "metadata": {},
   "outputs": [],
   "source": [
    "import re\n",
    "import string\n",
    "import numpy as np\n",
    "import pandas as pd\n",
    "import nltk\n",
    "import matplotlib.pyplot as plt\n",
    "from dataproc_utils import *"
   ]
  },
  {
   "cell_type": "code",
   "execution_count": 3,
   "metadata": {},
   "outputs": [],
   "source": [
    "pd.set_option('max_colwidth', 400)\n",
    "\n",
    "# load and split document bodies into paragraphs\n",
    "bodies = pd.read_csv('data/train_bodies.csv')   \n",
    "pars = split_paraphs(bodies)"
   ]
  },
  {
   "cell_type": "code",
   "execution_count": 4,
   "metadata": {},
   "outputs": [],
   "source": [
    "# load and convert stances into a list of claims\n",
    "stances = pd.read_csv('data/train_stances.csv')\n",
    "stances = stance_toint(stances)\n",
    "claims, labels = get_claims_labels(stances)"
   ]
  },
  {
   "cell_type": "code",
   "execution_count": 5,
   "metadata": {},
   "outputs": [],
   "source": [
    "# remove all non-ascii characters\n",
    "proc_pars = remove_nonascii(pars)\n",
    "proc_claims = remove_nonascii(claims)"
   ]
  },
  {
   "cell_type": "code",
   "execution_count": 6,
   "metadata": {},
   "outputs": [],
   "source": [
    "# replace all links, twitter handles, hashtags, and remove punctuation\n",
    "old_patterns = [r'(https?:)?//\\S+\\b|www\\.(\\w+\\.)+\\S*',\n",
    "                r'pic.twitter\\S*',\n",
    "                r'@\\w+',\n",
    "                r'#\\w+',\n",
    "                '[%s]' % re.escape('\"#$%&()*+/<=>@[\\]^_`{|}~')]\n",
    "                \n",
    "new_patterns = ['urlzz', 'urlzz', 'userzz', 'hashtagzz', '']\n",
    "\n",
    "\n",
    "for i in range(len(old_patterns)):\n",
    "    op = old_patterns[i]\n",
    "    np = new_patterns[i]  \n",
    "    proc_pars = replace_pattern(op, np, proc_pars)\n",
    "    proc_claims = replace_pattern(op, np, proc_claims)"
   ]
  },
  {
   "cell_type": "code",
   "execution_count": 7,
   "metadata": {},
   "outputs": [],
   "source": [
    "# convert to lowercase and tokenize\n",
    "proc_pars = tokenize_lines(proc_pars)\n",
    "proc_claims = tokenize_lines(proc_claims)"
   ]
  },
  {
   "cell_type": "code",
   "execution_count": 8,
   "metadata": {},
   "outputs": [],
   "source": [
    "# convert all numbers to number token\n",
    "number = r'\\d+[,\\.]?\\d*,?'\n",
    "proc_pars = replace_pattern_tokenized(number, r'<number>', proc_pars)\n",
    "proc_claims = replace_pattern_tokenized(number, r'<number>', proc_claims)"
   ]
  },
  {
   "cell_type": "code",
   "execution_count": 9,
   "metadata": {},
   "outputs": [],
   "source": [
    "# trim bodies, keep at most 9 paragraphs from each body\n",
    "trimmed_bodies = trim_bodies(proc_pars)\n",
    "trimmed_claims = trim_claims(proc_claims)\n",
    "# save_proc_bodies('train_bodies.txt', trimmed_bodies)\n",
    "# save_proc_claims('train_claims.txt', proc_claims, labels)"
   ]
  },
  {
   "cell_type": "code",
   "execution_count": 10,
   "metadata": {},
   "outputs": [
    {
     "name": "stdout",
     "output_type": "stream",
     "text": [
      "20796\n"
     ]
    }
   ],
   "source": [
    "# construct vocabulary\n",
    "V = make_V(trimmed_bodies, trimmed_claims)\n",
    "print(len(V))"
   ]
  },
  {
   "cell_type": "code",
   "execution_count": 11,
   "metadata": {},
   "outputs": [
    {
     "name": "stdout",
     "output_type": "stream",
     "text": [
      "12943\n"
     ]
    }
   ],
   "source": [
    "        \n",
    "# create a new dictionary where all words with frequency 1\n",
    "# are converted to <unknown> token\n",
    "V_freq = remove_rare(V)\n",
    "print(len(V_freq))"
   ]
  },
  {
   "cell_type": "code",
   "execution_count": 12,
   "metadata": {},
   "outputs": [],
   "source": [
    "# remove old placeholder keys and insert new ones that have a corresponding glove vec        \n",
    "new = ['<url>', '<user>', '<hashtag>']   \n",
    "old = ['urlzz', 'userzz', 'hashtagzz']"
   ]
  },
  {
   "cell_type": "code",
   "execution_count": 13,
   "metadata": {},
   "outputs": [],
   "source": [
    "V_freq = remove_placeholder_keys(V_freq, old, new)\n",
    "        "
   ]
  },
  {
   "cell_type": "code",
   "execution_count": 14,
   "metadata": {},
   "outputs": [],
   "source": [
    "PATH_TO_GLOVE = os.path.join('D:\\data\\glove.twitter.27B', 'glove.twitter.27B.25d.txt')"
   ]
  },
  {
   "cell_type": "code",
   "execution_count": 15,
   "metadata": {},
   "outputs": [],
   "source": [
    "# extract glove vecs that correspond to the words in our vocabulary\n",
    "w2v = extract_wordvecs(PATH_TO_GLOVE, V_freq)\n"
   ]
  },
  {
   "cell_type": "code",
   "execution_count": 16,
   "metadata": {},
   "outputs": [
    {
     "data": {
      "text/plain": [
       "11728"
      ]
     },
     "execution_count": 16,
     "metadata": {},
     "output_type": "execute_result"
    }
   ],
   "source": [
    "len(w2v)"
   ]
  },
  {
   "cell_type": "code",
   "execution_count": 17,
   "metadata": {},
   "outputs": [
    {
     "data": {
      "text/plain": [
       "(0,\n",
       " ['a',\n",
       "  'small',\n",
       "  'meteorite',\n",
       "  'crashed',\n",
       "  'into',\n",
       "  'a',\n",
       "  'wooded',\n",
       "  'area',\n",
       "  'in',\n",
       "  'nicaragua',\n",
       "  \"'s\",\n",
       "  'capital',\n",
       "  'of',\n",
       "  'managua',\n",
       "  'overnight',\n",
       "  ',',\n",
       "  'the',\n",
       "  'government',\n",
       "  'said',\n",
       "  'sunday',\n",
       "  '.',\n",
       "  'residents',\n",
       "  'reported',\n",
       "  'hearing',\n",
       "  'a',\n",
       "  'mysterious',\n",
       "  'boom',\n",
       "  'that',\n",
       "  'left',\n",
       "  'a',\n",
       "  '<number>-foot',\n",
       "  'deep',\n",
       "  'crater',\n",
       "  'near',\n",
       "  'the',\n",
       "  'city',\n",
       "  \"'s\",\n",
       "  'airport',\n",
       "  ',',\n",
       "  'the',\n",
       "  'associated',\n",
       "  'press',\n",
       "  'reports',\n",
       "  '.'])"
      ]
     },
     "execution_count": 17,
     "metadata": {},
     "output_type": "execute_result"
    }
   ],
   "source": [
    "trimmed_bodies[0]"
   ]
  },
  {
   "cell_type": "code",
   "execution_count": null,
   "metadata": {},
   "outputs": [],
   "source": []
  }
 ],
 "metadata": {
  "kernelspec": {
   "display_name": "Python 3",
   "language": "python",
   "name": "python3"
  },
  "language_info": {
   "codemirror_mode": {
    "name": "ipython",
    "version": 3
   },
   "file_extension": ".py",
   "mimetype": "text/x-python",
   "name": "python",
   "nbconvert_exporter": "python",
   "pygments_lexer": "ipython3",
   "version": "3.6.5"
  }
 },
 "nbformat": 4,
 "nbformat_minor": 2
}
