{
 "cells": [
  {
   "cell_type": "code",
   "execution_count": 1,
   "metadata": {},
   "outputs": [
    {
     "name": "stderr",
     "output_type": "stream",
     "text": [
      "C:\\Anaconda3\\lib\\site-packages\\h5py\\__init__.py:36: FutureWarning: Conversion of the second argument of issubdtype from `float` to `np.floating` is deprecated. In future, it will be treated as `np.float64 == np.dtype(float).type`.\n",
      "  from ._conv import register_converters as _register_converters\n",
      "Using TensorFlow backend.\n"
     ]
    }
   ],
   "source": [
    "%matplotlib inline\n",
    "\n",
    "from __future__ import print_function\n",
    "\n",
    "import numpy as np\n",
    "from sklearn.model_selection import train_test_split\n",
    "from dataproc_utils import load_wordvecs, load_file, read_proc_data\n",
    "from dataproc_utils import make_word_freq_V, word2idx\n",
    "from dataproc_utils import vocab_vectorizer, random_sampler\n",
    "from tfidf_cosine_similarity import tfidf_fit_transform\n",
    "\n",
    "from keras.models import Model\n",
    "import keras\n",
    "from keras.layers.embeddings import Embedding\n",
    "from keras.layers import Input, Dense, Reshape, Dropout\n",
    "from keras.layers import dot, multiply, concatenate\n",
    "from keras.layers import LSTM, Conv1D, TimeDistributed, Lambda\n",
    "from keras.initializers import Constant\n",
    "from keras import backend as K\n",
    "from keras.callbacks import ModelCheckpoint\n",
    "\n",
    "from matplotlib import pyplot as plt"
   ]
  },
  {
   "cell_type": "markdown",
   "metadata": {},
   "source": [
    "# Global variables"
   ]
  },
  {
   "cell_type": "code",
   "execution_count": 2,
   "metadata": {},
   "outputs": [],
   "source": [
    "batch_size = 64\n",
    "epochs = 15\n",
    "random_state = 42\n",
    "n_pars = 9 # max number of paragraphs from each document\n",
    "par_size = 15  # max paragraph length (num of words in each paragraph)\n",
    "claim_size = 15  # max num of words in each claim\n",
    "embedding_dim = 100  # size of the pre-trained glove embeddings\n",
    "output_size = 4  # size of the output vector, corresponds to the number of classes\n"
   ]
  },
  {
   "cell_type": "markdown",
   "metadata": {},
   "source": [
    "# Embeddings from Glove\n",
    "\n",
    "Only the words we use"
   ]
  },
  {
   "cell_type": "code",
   "execution_count": 3,
   "metadata": {},
   "outputs": [
    {
     "name": "stdout",
     "output_type": "stream",
     "text": [
      "17354 pretrained embeddings\n",
      "Shape of similarity matrix train p_tfidf: (39977, 9)\n",
      "Vocab size: 17256 unique words in the train set which have glove embeddings\n"
     ]
    }
   ],
   "source": [
    "# open saved wordvecs from file\n",
    "w2v = load_wordvecs('twitter_glo_vecs\\\\train_wordvecs100d.txt')\n",
    "print(len(w2v), 'pretrained embeddings')\n",
    "\n",
    "# load data and labels\n",
    "bodies_train = load_file('processed_data\\\\train_bodies.txt')\n",
    "claims_train = load_file('processed_data\\\\train_claims.txt')\n",
    "bodies_test = load_file('processed_data\\\\test_bodies.txt')\n",
    "claims_test = load_file('processed_data\\\\test_claims.txt')\n",
    "\n",
    "data_train = read_proc_data(bodies_train, claims_train, split_pars=True)\n",
    "y_train = np.array([label for _, _, label in data_train])\n",
    "\n",
    "data_test = read_proc_data(bodies_test, claims_test, split_pars=True)\n",
    "y_test = np.array([label for _, _, label in data_test])\n",
    "\n",
    "# train/validation split\n",
    "train_data, val_data, train_labels, val_labels = train_test_split(data_train, y_train,\n",
    "                                                                  test_size=.2,\n",
    "                                                                  random_state=random_state)\n",
    "\n",
    "# compute cos similarities after splitting into train/val or load the precomputed ones\n",
    "# you have to recompute the similarities each time you change the random state of train/val split\n",
    "# train_p_tfidf, val_p_tfidf, test_p_tfidf = tfidf_fit_transform(train_data, val_data, data_test)\n",
    "\n",
    "# load pre-computed p_tfidf similarity matrix for train data\n",
    "train_p_tfidf = np.loadtxt('processed_data\\\\p_tfidf_train.txt', dtype=np.float32)\n",
    "val_p_tfidf = np.loadtxt('processed_data\\\\p_tfidf_val.txt', dtype=np.float32)\n",
    "test_p_tfidf = np.loadtxt('processed_data\\\\p_tfidf_test.txt', dtype=np.float32)\n",
    "print('Shape of similarity matrix train p_tfidf:', train_p_tfidf.shape)\n",
    "\n",
    "\n",
    "# create a vocabulary dict from train data (we exclude rare words, which appear only once)\n",
    "word2freq = make_word_freq_V(train_data, fmin=1)\n",
    "word2index = word2idx(word2freq, pretrained=w2v)\n",
    "vocab_size = len(word2index)\n",
    "print('Vocab size:', vocab_size, 'unique words in the train set which have glove embeddings')\n",
    "\n",
    "# vectorize input words (turn each word into its index from the word2index dict)\n",
    "# for new words in test set that don't appear in train set, use index of <unknown>\n",
    "train_body, train_claim = vocab_vectorizer(train_data, word2index, max_par_len=par_size, max_claim_len=claim_size)\n",
    "val_body, val_claim = vocab_vectorizer(val_data, word2index, max_par_len=par_size, max_claim_len=claim_size)\n",
    "test_body, test_claim = vocab_vectorizer(data_test, word2index, max_par_len=par_size, max_claim_len=claim_size)"
   ]
  },
  {
   "cell_type": "code",
   "execution_count": 4,
   "metadata": {},
   "outputs": [
    {
     "data": {
      "text/plain": [
       "(39977, 9, 15)"
      ]
     },
     "execution_count": 4,
     "metadata": {},
     "output_type": "execute_result"
    }
   ],
   "source": [
    "train_body.shape"
   ]
  },
  {
   "cell_type": "code",
   "execution_count": 5,
   "metadata": {},
   "outputs": [
    {
     "data": {
      "text/plain": [
       "(9995, 9, 15)"
      ]
     },
     "execution_count": 5,
     "metadata": {},
     "output_type": "execute_result"
    }
   ],
   "source": [
    "val_body.shape"
   ]
  },
  {
   "cell_type": "code",
   "execution_count": 6,
   "metadata": {},
   "outputs": [
    {
     "data": {
      "text/plain": [
       "(25413, 9, 15)"
      ]
     },
     "execution_count": 6,
     "metadata": {},
     "output_type": "execute_result"
    }
   ],
   "source": [
    "test_body.shape"
   ]
  },
  {
   "cell_type": "markdown",
   "metadata": {},
   "source": [
    "# Under sampling"
   ]
  },
  {
   "cell_type": "code",
   "execution_count": 7,
   "metadata": {},
   "outputs": [],
   "source": [
    "# perform random under/over sampling to prevent class imbalance\n",
    "train_body, train_claim, train_p_tfidf, train_labels = random_sampler(train_body,\n",
    "                                                                      train_claim,\n",
    "                                                                      train_p_tfidf,\n",
    "                                                                      train_labels, type='under')"
   ]
  },
  {
   "cell_type": "code",
   "execution_count": 8,
   "metadata": {},
   "outputs": [],
   "source": [
    "# perform random under/over sampling to prevent class imbalance\n",
    "val_body, val_claim, val_p_tfidf, val_labels = random_sampler(val_body,\n",
    "                                                              val_claim,\n",
    "                                                              val_p_tfidf,\n",
    "                                                              val_labels, type='under')"
   ]
  },
  {
   "cell_type": "code",
   "execution_count": 9,
   "metadata": {},
   "outputs": [],
   "source": [
    "# perform random under/over sampling to prevent class imbalance\n",
    "test_body, test_claim, test_p_tfidf, test_labels = random_sampler(test_body,\n",
    "                                                                  test_claim,\n",
    "                                                                  test_p_tfidf,\n",
    "                                                                  y_test, type='under')"
   ]
  },
  {
   "cell_type": "code",
   "execution_count": 11,
   "metadata": {},
   "outputs": [
    {
     "data": {
      "text/plain": [
       "((2640, 9, 15), (720, 9, 15), (2788, 9, 15))"
      ]
     },
     "execution_count": 11,
     "metadata": {},
     "output_type": "execute_result"
    }
   ],
   "source": [
    "train_body.shape, val_body.shape, test_body.shape"
   ]
  },
  {
   "cell_type": "code",
   "execution_count": 12,
   "metadata": {},
   "outputs": [],
   "source": [
    "# prepare embedding matrix\n",
    "embedding_matrix = np.zeros((vocab_size + 1, embedding_dim))\n",
    "for w, i in word2index.items():\n",
    "    embedding_matrix[i] = w2v[w]"
   ]
  },
  {
   "cell_type": "markdown",
   "metadata": {},
   "source": [
    "# Embeddings"
   ]
  },
  {
   "cell_type": "code",
   "execution_count": 13,
   "metadata": {},
   "outputs": [],
   "source": [
    "# load pre-trained word vectors into embedding layers\n",
    "# we set trainable to false to keep the embeddings fixed\n",
    "embedding_body = Embedding(vocab_size + 1,\n",
    "                            embedding_dim,\n",
    "                            embeddings_initializer=Constant(embedding_matrix),\n",
    "                            input_length=(n_pars, par_size,),\n",
    "                            trainable=False)\n",
    "\n",
    "embedding_claim = Embedding(vocab_size + 1,\n",
    "                            embedding_dim,\n",
    "                            embeddings_initializer=Constant(embedding_matrix),\n",
    "                            input_length=claim_size,\n",
    "                            trainable=False)"
   ]
  },
  {
   "cell_type": "code",
   "execution_count": 14,
   "metadata": {},
   "outputs": [
    {
     "name": "stdout",
     "output_type": "stream",
     "text": [
      "input body (?, 9, 15)\n",
      "input claim (?, 15)\n",
      "input p_tfidf (?, 9)\n"
     ]
    }
   ],
   "source": [
    "# initialize input placeholders and embed pre-trained word vectors\n",
    "input_body = Input(shape=(n_pars, par_size,), dtype='int32', name='docs')\n",
    "input_claim = Input(shape=(claim_size,), dtype='int32', name='claims')\n",
    "input_p_tfidf = Input(shape=(n_pars,), dtype='float32', name='tfidf')\n",
    "\n",
    "print('input body', input_body.shape)     # (?, 9, 15)\n",
    "print('input claim', input_claim.shape)    # (?, 15)\n",
    "print('input p_tfidf', input_p_tfidf.shape)  # (?, 9)"
   ]
  },
  {
   "cell_type": "code",
   "execution_count": 15,
   "metadata": {},
   "outputs": [
    {
     "name": "stdout",
     "output_type": "stream",
     "text": [
      "embedded body (?, 9, 15, 100)\n",
      "embedded claim (?, 15, 100)\n"
     ]
    }
   ],
   "source": [
    "embedded_body = embedding_body(input_body)\n",
    "embedded_claim = embedding_claim(input_claim)\n",
    "\n",
    "print('embedded body', embedded_body.shape)   # (?, 9, 15, 25)\n",
    "print('embedded claim', embedded_claim.shape)  # (?, 15, 25)"
   ]
  },
  {
   "cell_type": "markdown",
   "metadata": {},
   "source": [
    "# CNNs"
   ]
  },
  {
   "cell_type": "markdown",
   "metadata": {},
   "source": [
    "## Paragraphs"
   ]
  },
  {
   "cell_type": "code",
   "execution_count": 16,
   "metadata": {},
   "outputs": [],
   "source": [
    "# train two 1D convnets (should be time distributed with maxout layer)\n",
    "cnn_body = TimeDistributed(Conv1D(100, 5, padding='valid', activation='relu'), name='CNN_docs')(embedded_body)\n",
    "cnn_body = Lambda(lambda x: K.max(x, axis=-1, keepdims=False), name='CNN_maxout_docs')(cnn_body)  # this should be maxout\n",
    "#cnn_body = Lambda(lambda x: tf.contrib.layers.maxout(x, num_units=1))(cnn_body) ## does not work for some reason!!?"
   ]
  },
  {
   "cell_type": "markdown",
   "metadata": {},
   "source": [
    "## Claims"
   ]
  },
  {
   "cell_type": "code",
   "execution_count": 17,
   "metadata": {},
   "outputs": [],
   "source": [
    "cnn_claim = Conv1D(100, 5, padding='valid', activation='relu', name='CNN_claims')(embedded_claim)\n",
    "cnn_claim = Lambda(lambda x: K.max(x, axis=-1, keepdims=False), name='CNN_maxout_claims')(cnn_claim)  # this should be maxout\n",
    "#cnn_claim = Lambda(lambda x: tf.contrib.layers.maxout(x, num_units=1))(cnn_claim) ## does not work"
   ]
  },
  {
   "cell_type": "markdown",
   "metadata": {},
   "source": [
    "For Maxout, we take the maximum value of the 100 values in the vector extracted by the CNN"
   ]
  },
  {
   "cell_type": "code",
   "execution_count": 18,
   "metadata": {},
   "outputs": [
    {
     "name": "stdout",
     "output_type": "stream",
     "text": [
      "cnn_body shape (?, 9, 11)\n",
      "cnn_claim shape (?, 11)\n"
     ]
    }
   ],
   "source": [
    "# maxout eliminates the last dimension from the cnn representations:\n",
    "# converts cnn_body with shape (?, 9, 11, 100) to (?, 9, 11)\n",
    "# and cnn_claim with shape (?, 11, 100) to (?, 11)\n",
    "print('cnn_body shape', cnn_body.shape)  # (?, 9, 11)\n",
    "print('cnn_claim shape', cnn_claim.shape)  # (?, 11)"
   ]
  },
  {
   "cell_type": "markdown",
   "metadata": {},
   "source": [
    "# LSTMs\n",
    "\n",
    "- TimeDistributed for documents\n",
    "- simple for claims"
   ]
  },
  {
   "cell_type": "code",
   "execution_count": 19,
   "metadata": {},
   "outputs": [
    {
     "name": "stdout",
     "output_type": "stream",
     "text": [
      "lstm body (?, 9, 100)\n",
      "lstm claim (?, 100)\n"
     ]
    }
   ],
   "source": [
    "# train two lstms\n",
    "lstm_body = TimeDistributed(LSTM(100), name=\"LSTM_docs\")(embedded_body)\n",
    "lstm_claim = (LSTM(100, name=\"LSTM_claims\"))(embedded_claim)\n",
    "\n",
    "print('lstm body', lstm_body.shape) # (?, 9, 100)\n",
    "print('lstm claim', lstm_claim.shape) # (?, 100)"
   ]
  },
  {
   "cell_type": "code",
   "execution_count": 20,
   "metadata": {},
   "outputs": [
    {
     "name": "stdout",
     "output_type": "stream",
     "text": [
      "lstm_body * p_tfidf (?, 9, 100)\n"
     ]
    }
   ],
   "source": [
    "# reshape tfidf sim matrix layer from (?, 9) into (?, 9, 1)\n",
    "reshaped_p_tfidf = Reshape((n_pars, 1), name=\"reshape_tfidf\")(input_p_tfidf)\n",
    "lstm_body = multiply([lstm_body, reshaped_p_tfidf], name=\"\")\n",
    "### tensor shapes: (samples, n_pars, 100) * (samples, n_pars, 1) => (?, 9, 100)\n",
    "print('lstm_body * p_tfidf', lstm_body.shape)  # (?, 9, 100)"
   ]
  },
  {
   "cell_type": "markdown",
   "metadata": {},
   "source": [
    "# P_lstm"
   ]
  },
  {
   "cell_type": "code",
   "execution_count": 21,
   "metadata": {},
   "outputs": [
    {
     "name": "stdout",
     "output_type": "stream",
     "text": [
      "p_lstm (?, 9)\n"
     ]
    }
   ],
   "source": [
    "## p_lstm = lstm_claim.T x M x lstm_body[j]  a.k.a. wtf is M?\n",
    "## if normalize=True, then the output of the dot product is the cosine similarity between the two samples\n",
    "p_lstm = dot([lstm_body, lstm_claim], axes=(2, 1), normalize=True, name=\"P_lstm\")\n",
    "print('p_lstm', p_lstm.shape)  # (samples, 9)"
   ]
  },
  {
   "cell_type": "code",
   "execution_count": 22,
   "metadata": {},
   "outputs": [],
   "source": [
    "### cnn_body = cnn_body * p_lstm\n",
    "# reshape sim matrix layer from (?, 9) into (?, 9, 1)\n",
    "p_lstm = Reshape((n_pars, 1), name=\"P_lstm_reshape\")(p_lstm)"
   ]
  },
  {
   "cell_type": "code",
   "execution_count": 23,
   "metadata": {},
   "outputs": [
    {
     "name": "stdout",
     "output_type": "stream",
     "text": [
      "p_lstm (?, 9, 1)\n"
     ]
    }
   ],
   "source": [
    "print('p_lstm', p_lstm.shape)  # (samples, 9)"
   ]
  },
  {
   "cell_type": "markdown",
   "metadata": {},
   "source": [
    "# P_cnn"
   ]
  },
  {
   "cell_type": "code",
   "execution_count": 24,
   "metadata": {},
   "outputs": [
    {
     "name": "stdout",
     "output_type": "stream",
     "text": [
      "cnn_body * p_lstm (?, 9, 11)\n",
      "cnn_claim (?, 11)\n"
     ]
    }
   ],
   "source": [
    "cnn_body = multiply([cnn_body, p_lstm])\n",
    "print('cnn_body * p_lstm', cnn_body.shape) # (?, 9, 11)\n",
    "print('cnn_claim', cnn_claim.shape)        # (?, 11)"
   ]
  },
  {
   "cell_type": "code",
   "execution_count": 25,
   "metadata": {},
   "outputs": [
    {
     "name": "stdout",
     "output_type": "stream",
     "text": [
      "p_cnn (?, 9)\n"
     ]
    }
   ],
   "source": [
    "## p_cnn = cnn_claim.T x M' x cnn_body[j]  a.k.a. wtf is M'?\n",
    "## if normalize=True, then the output of the dot product is the cosine similarity between the two samples\n",
    "p_cnn = dot([cnn_body, cnn_claim], axes=(2, 1), normalize=True, name=\"P_cnn\")\n",
    "print('p_cnn', p_cnn.shape)  # (?, 9)"
   ]
  },
  {
   "cell_type": "code",
   "execution_count": 26,
   "metadata": {},
   "outputs": [
    {
     "name": "stdout",
     "output_type": "stream",
     "text": [
      "mean cnn body (?, 9)\n"
     ]
    }
   ],
   "source": [
    "# no clue whats going from here onward\n",
    "## o = [mean(cnn_body); [max(p_cnn); mean(p_cnn)]; [max(p_lstm); mean(p_lstm)]; [max(p_tfidf); mean(p_tfidf)]]\n",
    "mean_cnn_body = Lambda(lambda x: K.mean(x, axis=2), name=\"mean_cnn_body\")(cnn_body)\n",
    "print('mean cnn body', mean_cnn_body.shape)  # (?, 9)"
   ]
  },
  {
   "cell_type": "markdown",
   "metadata": {},
   "source": [
    "# O"
   ]
  },
  {
   "cell_type": "code",
   "execution_count": 27,
   "metadata": {},
   "outputs": [],
   "source": [
    "# taking mean and max similarities\n",
    "max_p_cnn = Lambda(lambda x: K.max(x, axis=1), name=\"max_p_cnn\")(p_cnn)\n",
    "mean_p_cnn = Lambda(lambda x: K.mean(x, axis=1), name=\"mean_p_cnn\")(p_cnn)\n",
    "max_p_lstm = Lambda(lambda x: K.max(x, axis=1), name=\"max_p_lstm\")(p_lstm)\n",
    "mean_p_lstm = Lambda(lambda x: K.mean(x, axis=1), name=\"mean_p_lstm\")(p_lstm)\n",
    "max_p_tfidf = Lambda(lambda x: K.max(x, axis=1), name=\"max_p_tfidf\")(reshaped_p_tfidf)\n",
    "mean_p_tfidf = Lambda(lambda x: K.mean(x, axis=1), name=\"mean_p_tfidf\")(reshaped_p_tfidf)"
   ]
  },
  {
   "cell_type": "code",
   "execution_count": 28,
   "metadata": {},
   "outputs": [],
   "source": [
    "# reshape some layers to make their dimensions compatible\n",
    "max_p_cnn = Reshape((1,), name=\"max_p_cnn_reshape\")(max_p_cnn)\n",
    "mean_p_cnn = Reshape((1,), name=\"mean_p_cnn_reshape\")(mean_p_cnn)"
   ]
  },
  {
   "cell_type": "code",
   "execution_count": 29,
   "metadata": {},
   "outputs": [
    {
     "name": "stdout",
     "output_type": "stream",
     "text": [
      "output (?, 15)\n"
     ]
    }
   ],
   "source": [
    "output = concatenate([mean_cnn_body,\n",
    "                      max_p_cnn, mean_p_cnn,\n",
    "                      max_p_lstm, mean_p_lstm,\n",
    "                      max_p_tfidf, mean_p_tfidf],\n",
    "                    name=\"O_concatenate\")\n",
    "\n",
    "print('output', output.shape)  # (?, 15)"
   ]
  },
  {
   "cell_type": "code",
   "execution_count": 30,
   "metadata": {},
   "outputs": [
    {
     "name": "stdout",
     "output_type": "stream",
     "text": [
      "response layer: (?, 126)\n"
     ]
    }
   ],
   "source": [
    "response = concatenate([output, lstm_claim, cnn_claim], name=\"input_for_dense_R\")\n",
    "print('response layer:', response.shape)   # (?, 126)"
   ]
  },
  {
   "cell_type": "code",
   "execution_count": 31,
   "metadata": {},
   "outputs": [],
   "source": [
    "# home stretch\n",
    "stance = Dense(300, activation='relu', name=\"dense\")(response)\n",
    "stance = Dropout(0.3)(stance)\n",
    "preds = Dense(output_size, activation='softmax')(stance)"
   ]
  },
  {
   "cell_type": "code",
   "execution_count": 32,
   "metadata": {},
   "outputs": [],
   "source": [
    "# build the model\n",
    "model = Model([input_body, input_claim, input_p_tfidf], preds)\n",
    "model.compile(optimizer=keras.optimizers.adam(),\n",
    "              loss='sparse_categorical_crossentropy',\n",
    "              metrics=['accuracy'])"
   ]
  },
  {
   "cell_type": "markdown",
   "metadata": {},
   "source": [
    "# Diagram of model"
   ]
  },
  {
   "cell_type": "code",
   "execution_count": 33,
   "metadata": {},
   "outputs": [],
   "source": [
    "keras.utils.plot_model(model, to_file='model.png', show_shapes=True)"
   ]
  },
  {
   "cell_type": "markdown",
   "metadata": {},
   "source": [
    "# Train"
   ]
  },
  {
   "cell_type": "code",
   "execution_count": 34,
   "metadata": {},
   "outputs": [],
   "source": [
    "filepath=\"model.hdf5\"\n",
    "checkpoint = ModelCheckpoint(filepath, monitor='val_acc', verbose=1, save_best_only=True, mode='max')"
   ]
  },
  {
   "cell_type": "code",
   "execution_count": 35,
   "metadata": {},
   "outputs": [
    {
     "name": "stdout",
     "output_type": "stream",
     "text": [
      "Train on 2640 samples, validate on 720 samples\n",
      "Epoch 1/15\n",
      "2640/2640 [==============================] - 7s 3ms/step - loss: 1.3582 - acc: 0.3265 - val_loss: 1.2688 - val_acc: 0.4444\n",
      "\n",
      "Epoch 00001: val_acc improved from -inf to 0.44444, saving model to model.hdf5\n",
      "Epoch 2/15\n",
      "2640/2640 [==============================] - 2s 912us/step - loss: 1.1337 - acc: 0.5110 - val_loss: 1.0981 - val_acc: 0.5347\n",
      "\n",
      "Epoch 00002: val_acc improved from 0.44444 to 0.53472, saving model to model.hdf5\n",
      "Epoch 3/15\n",
      "2640/2640 [==============================] - 2s 909us/step - loss: 0.9126 - acc: 0.6383 - val_loss: 1.0121 - val_acc: 0.5778\n",
      "\n",
      "Epoch 00003: val_acc improved from 0.53472 to 0.57778, saving model to model.hdf5\n",
      "Epoch 4/15\n",
      "2640/2640 [==============================] - 2s 917us/step - loss: 0.7551 - acc: 0.7110 - val_loss: 0.9395 - val_acc: 0.6264\n",
      "\n",
      "Epoch 00004: val_acc improved from 0.57778 to 0.62639, saving model to model.hdf5\n",
      "Epoch 5/15\n",
      "2640/2640 [==============================] - 2s 914us/step - loss: 0.5993 - acc: 0.7773 - val_loss: 0.9312 - val_acc: 0.6333\n",
      "\n",
      "Epoch 00005: val_acc improved from 0.62639 to 0.63333, saving model to model.hdf5\n",
      "Epoch 6/15\n",
      "2640/2640 [==============================] - 2s 914us/step - loss: 0.4876 - acc: 0.8212 - val_loss: 0.9833 - val_acc: 0.6319\n",
      "\n",
      "Epoch 00006: val_acc did not improve from 0.63333\n",
      "Epoch 7/15\n",
      "2640/2640 [==============================] - 2s 910us/step - loss: 0.4046 - acc: 0.8549 - val_loss: 1.0073 - val_acc: 0.6597\n",
      "\n",
      "Epoch 00007: val_acc improved from 0.63333 to 0.65972, saving model to model.hdf5\n",
      "Epoch 8/15\n",
      "2640/2640 [==============================] - 2s 912us/step - loss: 0.3359 - acc: 0.8818 - val_loss: 1.0189 - val_acc: 0.6458\n",
      "\n",
      "Epoch 00008: val_acc did not improve from 0.65972\n",
      "Epoch 9/15\n",
      "2640/2640 [==============================] - 2s 911us/step - loss: 0.2763 - acc: 0.9038 - val_loss: 1.1222 - val_acc: 0.6403\n",
      "\n",
      "Epoch 00009: val_acc did not improve from 0.65972\n",
      "Epoch 10/15\n",
      "2640/2640 [==============================] - 2s 923us/step - loss: 0.2179 - acc: 0.9231 - val_loss: 1.1845 - val_acc: 0.6458\n",
      "\n",
      "Epoch 00010: val_acc did not improve from 0.65972\n",
      "Epoch 11/15\n",
      "2640/2640 [==============================] - 2s 915us/step - loss: 0.1724 - acc: 0.9458 - val_loss: 1.3104 - val_acc: 0.6333\n",
      "\n",
      "Epoch 00011: val_acc did not improve from 0.65972\n",
      "Epoch 12/15\n",
      "2640/2640 [==============================] - 2s 910us/step - loss: 0.1311 - acc: 0.9636 - val_loss: 1.3889 - val_acc: 0.6486\n",
      "\n",
      "Epoch 00012: val_acc did not improve from 0.65972\n",
      "Epoch 13/15\n",
      "2640/2640 [==============================] - 2s 903us/step - loss: 0.1029 - acc: 0.9697 - val_loss: 1.4492 - val_acc: 0.6417\n",
      "\n",
      "Epoch 00013: val_acc did not improve from 0.65972\n",
      "Epoch 14/15\n",
      "2640/2640 [==============================] - 2s 911us/step - loss: 0.0894 - acc: 0.9731 - val_loss: 1.4744 - val_acc: 0.6639\n",
      "\n",
      "Epoch 00014: val_acc improved from 0.65972 to 0.66389, saving model to model.hdf5\n",
      "Epoch 15/15\n",
      "2640/2640 [==============================] - 2s 916us/step - loss: 0.0652 - acc: 0.9833 - val_loss: 1.5933 - val_acc: 0.6431\n",
      "\n",
      "Epoch 00015: val_acc did not improve from 0.66389\n"
     ]
    }
   ],
   "source": [
    "# train\n",
    "history = model.fit(\n",
    "    [train_body, train_claim, train_p_tfidf], train_labels,\n",
    "    batch_size=batch_size,\n",
    "    epochs=epochs,\n",
    "    validation_data=([val_body, val_claim, val_p_tfidf], val_labels),\n",
    "    callbacks=[checkpoint]\n",
    "         )"
   ]
  },
  {
   "cell_type": "code",
   "execution_count": 42,
   "metadata": {},
   "outputs": [
    {
     "data": {
      "text/plain": [
       "((2788, 15), (25413,))"
      ]
     },
     "execution_count": 42,
     "metadata": {},
     "output_type": "execute_result"
    }
   ],
   "source": [
    "test_claim.shape, y_test.shape"
   ]
  },
  {
   "cell_type": "code",
   "execution_count": 37,
   "metadata": {},
   "outputs": [],
   "source": [
    "preds = model.predict([test_body, test_claim, test_p_tfidf])"
   ]
  },
  {
   "cell_type": "code",
   "execution_count": 38,
   "metadata": {},
   "outputs": [
    {
     "data": {
      "text/plain": [
       "1.0"
      ]
     },
     "execution_count": 38,
     "metadata": {},
     "output_type": "execute_result"
    }
   ],
   "source": [
    "np.sum(preds[0])"
   ]
  },
  {
   "cell_type": "markdown",
   "metadata": {},
   "source": [
    "# Confusion matrix"
   ]
  },
  {
   "cell_type": "code",
   "execution_count": 39,
   "metadata": {},
   "outputs": [],
   "source": [
    "from sklearn.metrics import confusion_matrix\n"
   ]
  },
  {
   "cell_type": "code",
   "execution_count": 43,
   "metadata": {},
   "outputs": [],
   "source": [
    "cnf_matrix = confusion_matrix(test_labels, np.argmax(preds,axis=1))"
   ]
  },
  {
   "cell_type": "code",
   "execution_count": 44,
   "metadata": {},
   "outputs": [
    {
     "name": "stdout",
     "output_type": "stream",
     "text": [
      "Normalized confusion matrix\n"
     ]
    },
    {
     "data": {
      "image/png": "[encoded data removed]",
      "text/plain": [
       "<Figure size 432x288 with 2 Axes>"
      ]
     },
     "metadata": {},
     "output_type": "display_data"
    }
   ],
   "source": [
    "def plot_confusion_matrix(cm, classes,\n",
    "                          normalize=False,\n",
    "                          title='Confusion matrix',\n",
    "                          cmap=plt.cm.Blues):\n",
    "    \"\"\"\n",
    "    This function prints and plots the confusion matrix.\n",
    "    Normalization can be applied by setting `normalize=True`.\n",
    "    \"\"\"\n",
    "    if normalize:\n",
    "        cm = cm.astype('float') / cm.sum(axis=1)[:, np.newaxis]\n",
    "        print(\"Normalized confusion matrix\")\n",
    "    else:\n",
    "        print('Confusion matrix, without normalization')\n",
    "\n",
    "#     print(cm)\n",
    "\n",
    "    plt.imshow(cm, interpolation='nearest', cmap=cmap)\n",
    "    plt.title(title)\n",
    "    plt.colorbar()\n",
    "    tick_marks = np.arange(len(classes))\n",
    "    plt.xticks(tick_marks, classes, rotation=45)\n",
    "    plt.yticks(tick_marks, classes)\n",
    "\n",
    "    fmt = '.2f' if normalize else 'd'\n",
    "    thresh = cm.max() / 2.\n",
    "    for i, j in itertools.product(range(cm.shape[0]), range(cm.shape[1])):\n",
    "        plt.text(j, i, format(cm[i, j], fmt),\n",
    "                 horizontalalignment=\"center\",\n",
    "                 color=\"white\" if cm[i, j] > thresh else \"black\")\n",
    "\n",
    "    plt.ylabel('True label')\n",
    "    plt.xlabel('Predicted label')\n",
    "    plt.tight_layout()\n",
    "    return plt.gcf()\n",
    "\n",
    "import itertools\n",
    "\n",
    "fig = plot_confusion_matrix(cnf_matrix, ['Unrelated','Discuss','Agree','Disagree'], normalize=True)\n"
   ]
  },
  {
   "cell_type": "markdown",
   "metadata": {},
   "source": [
    "# Plot training"
   ]
  },
  {
   "cell_type": "code",
   "execution_count": 46,
   "metadata": {},
   "outputs": [
    {
     "data": {
      "image/png": "[encoded data removed]",
      "text/plain": [
       "<Figure size 432x288 with 1 Axes>"
      ]
     },
     "metadata": {},
     "output_type": "display_data"
    },
    {
     "data": {
      "image/png": "[encoded data removed]",
      "text/plain": [
       "<Figure size 432x288 with 1 Axes>"
      ]
     },
     "metadata": {},
     "output_type": "display_data"
    }
   ],
   "source": [
    "# Plot training & validation accuracy values\n",
    "plt.plot(history.history['acc'])\n",
    "plt.plot(history.history['val_acc'])\n",
    "plt.title('Model accuracy')\n",
    "plt.ylabel('Accuracy')\n",
    "plt.xlabel('Epoch')\n",
    "plt.legend(['Train', 'Val'], loc='upper left')\n",
    "plt.show()\n",
    "\n",
    "# Plot training & validation loss values\n",
    "plt.plot(history.history['loss'])\n",
    "plt.plot(history.history['val_loss'])\n",
    "plt.title('Model loss')\n",
    "plt.ylabel('Loss')\n",
    "plt.xlabel('Epoch')\n",
    "plt.legend(['Train', 'Val'], loc='upper left')\n",
    "plt.show()"
   ]
  },
  {
   "cell_type": "markdown",
   "metadata": {},
   "source": [
    "# Exploring model layers"
   ]
  },
  {
   "cell_type": "code",
   "execution_count": null,
   "metadata": {},
   "outputs": [],
   "source": [
    "index2word = {index:word for word,index in word2index.items()}"
   ]
  },
  {
   "cell_type": "code",
   "execution_count": null,
   "metadata": {},
   "outputs": [],
   "source": [
    "index2word[0] = ''"
   ]
  },
  {
   "cell_type": "code",
   "execution_count": null,
   "metadata": {},
   "outputs": [],
   "source": [
    "NR_ENTRY = 2\n",
    "\n",
    "one_input = [[val_body[NR_ENTRY]], [val_claim[NR_ENTRY]], [val_p_tfidf[NR_ENTRY]]]\n",
    "\n",
    "p_cnn_layer_model = Model(inputs=model.input,\n",
    "                                 outputs=model.get_layer('P_cnn').output)\n",
    "\n",
    "p_cnn_pred = p_cnn_layer_model.predict(one_input)\n",
    "\n",
    "most_sim_paragraph_index = p_cnn_pred.argmax()\n",
    "\n",
    "most_sim_paragraph = [index2word[w] for w in one_input[0][0][most_sim_paragraph_index]]\n",
    "\n",
    "# Full body\n",
    "#[[index2word[w] for w in one_input[0][0][i]] for i in range(9)]\n",
    "\n",
    "print(\"claim: \", [index2word[w] if w!=0 else 0 for w in one_input[1][0]])\n",
    "\n",
    "cnn_maxout_layer_model = Model(inputs=model.input,\n",
    "                                 outputs=model.get_layer('CNN_maxout_docs').output)\n",
    "\n",
    "cnn_maxout_pred = cnn_maxout_layer_model.predict(one_input)\n",
    "\n",
    "cnn_maxout_pred.shape\n",
    "\n",
    "ngramindex = cnn_maxout_pred[0][most_sim_paragraph_index].argmax()\n",
    "\n",
    "print(\"most sim ngram: \", most_sim_paragraph[ngramindex:ngramindex+5])\n",
    "print(\"most sim paragraph: \", most_sim_paragraph)\n",
    "\n",
    "print(\"stance: \", model.predict(one_input).argmax())"
   ]
  },
  {
   "cell_type": "markdown",
   "metadata": {},
   "source": [
    "```\n",
    "    df.loc[df['Stance'] == 'unrelated', 'Stance'] = 0\n",
    "    df.loc[df['Stance'] == 'discuss', 'Stance'] = 1\n",
    "    df.loc[df['Stance'] == 'agree', 'Stance'] = 2\n",
    "    df.loc[df['Stance'] == 'disagree', 'Stance'] = 3\n",
    "    ```"
   ]
  },
  {
   "cell_type": "code",
   "execution_count": null,
   "metadata": {},
   "outputs": [],
   "source": [
    "NR_ENTRY = 401, 409"
   ]
  },
  {
   "cell_type": "code",
   "execution_count": null,
   "metadata": {},
   "outputs": [],
   "source": [
    "make_sense = [310, 220, 3105]"
   ]
  }
 ],
 "metadata": {
  "kernelspec": {
   "display_name": "Python 3",
   "language": "python",
   "name": "python3"
  },
  "language_info": {
   "codemirror_mode": {
    "name": "ipython",
    "version": 3
   },
   "file_extension": ".py",
   "mimetype": "text/x-python",
   "name": "python",
   "nbconvert_exporter": "python",
   "pygments_lexer": "ipython3",
   "version": "3.6.5"
  }
 },
 "nbformat": 4,
 "nbformat_minor": 2
}
