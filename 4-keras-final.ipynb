{
 "cells": [
  {
   "cell_type": "code",
   "execution_count": 42,
   "metadata": {},
   "outputs": [],
   "source": [
    "%matplotlib inline\n",
    "\n",
    "from __future__ import print_function\n",
    "\n",
    "from keras.models import Sequential, Model\n",
    "from keras.layers.embeddings import Embedding\n",
    "from keras.layers import Input, Activation, Dense, Permute, Reshape, Dropout\n",
    "from keras.layers import add, dot, multiply, concatenate\n",
    "from keras.layers import LSTM, Conv1D, TimeDistributed, Lambda\n",
    "from keras.initializers import Constant\n",
    "from keras import backend as K\n",
    "from keras import utils\n",
    "from keras.callbacks import ModelCheckpoint\n",
    "import numpy as np\n",
    "\n",
    "from dataproc_utils import load_wordvecs, load_proc_data, make_word_freq_V, word2idx, vocab_vectorizer\n",
    "from sklearn.model_selection import train_test_split\n",
    "from sklearn.metrics import accuracy_score\n",
    "import tensorflow as tf\n",
    "\n",
    "from matplotlib import pyplot as plt"
   ]
  },
  {
   "cell_type": "code",
   "execution_count": 2,
   "metadata": {},
   "outputs": [],
   "source": [
    "batch_size = 64\n",
    "epochs = 25\n",
    "random_state = 42\n",
    "n_pars = 9 # max number of paragraphs from each document\n",
    "par_size = 15  # max paragraph length (num of words in each paragraph)\n",
    "claim_size = 15  # max num of words in each claim\n",
    "embedding_dim = 25  # should be 100\n",
    "output_size = 4  # size of the output vector, corresponds to the number of classes"
   ]
  },
  {
   "cell_type": "markdown",
   "metadata": {},
   "source": [
    "# Embeddings from Glove\n",
    "\n",
    "Only the words we use"
   ]
  },
  {
   "cell_type": "code",
   "execution_count": 3,
   "metadata": {},
   "outputs": [
    {
     "name": "stdout",
     "output_type": "stream",
     "text": [
      "17355 pretrained embeddings\n"
     ]
    }
   ],
   "source": [
    "# open saved wordvecs from file\n",
    "w2v = load_wordvecs('twitter_glo_vecs\\\\wordvecs25d.txt')\n",
    "print(len(w2v), 'pretrained embeddings')"
   ]
  },
  {
   "cell_type": "markdown",
   "metadata": {},
   "source": [
    "# Preprocessed data\n",
    "\n",
    "- document per line\n",
    "- claim per line"
   ]
  },
  {
   "cell_type": "code",
   "execution_count": 4,
   "metadata": {},
   "outputs": [],
   "source": [
    "# load data and labels\n",
    "data = load_proc_data('processed_data\\\\train_bodies.txt', 'processed_data\\\\train_claims.txt', split_pars=True)\n",
    "labels = [label for body, claim, label in data]\n",
    "y = np.array(labels)"
   ]
  },
  {
   "cell_type": "code",
   "execution_count": 5,
   "metadata": {},
   "outputs": [
    {
     "name": "stdout",
     "output_type": "stream",
     "text": [
      "Shape of similarity matrix train p_tfidf: (49972, 9)\n"
     ]
    }
   ],
   "source": [
    "# initialize tfidf tokenizer\n",
    "# fit on concatenated list of bodies and claims\n",
    "# and transform bodies/pars and claims at the same time\n",
    "# measure cosine similarity btw tfidf representations of bodies & claims to compute p_tfidf (claim-evidence sim vector)\n",
    "# tfidf_body shape (len(claims), n_pars, vocab size)\n",
    "# tfidf_claim shape (len(claims), vocab size)\n",
    "# p_tfidf output shape: (len(claims), n_pars)\n",
    "\n",
    "# load pre-computed p_tfidf similarity matrix for train data\n",
    "p_tfidf = np.loadtxt('processed_data\\\\p_tfidf_train.txt', dtype=np.float32)\n",
    "print('Shape of similarity matrix train p_tfidf:', p_tfidf.shape)"
   ]
  },
  {
   "cell_type": "markdown",
   "metadata": {},
   "source": [
    "# TFIDF\n",
    "\n",
    "Tfidf computed for every claim. Each claim is matched to one document (9 paragraphs). NOTE: Claims might repeat, but with new document as reference."
   ]
  },
  {
   "cell_type": "code",
   "execution_count": 6,
   "metadata": {},
   "outputs": [],
   "source": [
    "# train/validation split\n",
    "train_data, val_data, train_p_tfidf, val_p_tfidf, train_labels, val_labels = train_test_split(data, p_tfidf, y,\n",
    "                                                                                              test_size=.2,\n",
    "                                                                                              random_state=random_state)\n",
    "# print('First input tuple (body, claim, stance):\\n', train_data[0])\n",
    "# print('First input p_tfidf:\\n', train_p_tfidf[0])"
   ]
  },
  {
   "cell_type": "code",
   "execution_count": 7,
   "metadata": {},
   "outputs": [
    {
     "name": "stdout",
     "output_type": "stream",
     "text": [
      "Vocab size: 16908 unique words in the train set which have glove embeddings\n"
     ]
    }
   ],
   "source": [
    "# create a vocabulary dict from train data (we exclude rare words, which appear only once)\n",
    "word2freq = make_word_freq_V(train_data, fmin=2)\n",
    "word2index = word2idx(word2freq, pretrained=w2v)\n",
    "vocab_size = len(word2index)\n",
    "print('Vocab size:', vocab_size, 'unique words in the train set which have glove embeddings')"
   ]
  },
  {
   "cell_type": "code",
   "execution_count": 85,
   "metadata": {},
   "outputs": [],
   "source": [
    "index2word = {v:k for k,v in word2index.items()}"
   ]
  },
  {
   "cell_type": "code",
   "execution_count": 127,
   "metadata": {},
   "outputs": [],
   "source": [
    "index2word[0] = 'unknown'"
   ]
  },
  {
   "cell_type": "markdown",
   "metadata": {},
   "source": [
    "# Vectorize"
   ]
  },
  {
   "cell_type": "code",
   "execution_count": 8,
   "metadata": {},
   "outputs": [],
   "source": [
    "# vectorize input words (turn each word into its index from the word2index dict)\n",
    "# for new words in test set that don't appear in train set, use index of <unknown>\n",
    "train_body, train_claim = vocab_vectorizer(train_data, word2index, max_par_len=par_size, max_claim_len=claim_size)\n",
    "val_body, val_claim = vocab_vectorizer(val_data, word2index, max_par_len=par_size, max_claim_len=claim_size)"
   ]
  },
  {
   "cell_type": "markdown",
   "metadata": {},
   "source": [
    "# Prepare embedding matrix"
   ]
  },
  {
   "cell_type": "code",
   "execution_count": 9,
   "metadata": {},
   "outputs": [],
   "source": [
    "# prepare embedding matrix\n",
    "embedding_matrix = np.zeros((vocab_size + 1, embedding_dim))\n",
    "for w, i in word2index.items():\n",
    "    embedding_matrix[i] = w2v[w]"
   ]
  },
  {
   "cell_type": "markdown",
   "metadata": {},
   "source": [
    "# Embeddings"
   ]
  },
  {
   "cell_type": "code",
   "execution_count": 10,
   "metadata": {},
   "outputs": [],
   "source": [
    "# load pre-trained word vectors into embedding layers\n",
    "# we set trainable to false to keep the embeddings fixed\n",
    "embedding_body = Embedding(vocab_size + 1,\n",
    "                            embedding_dim,\n",
    "                            embeddings_initializer=Constant(embedding_matrix),\n",
    "                            input_length=(n_pars, par_size,),\n",
    "                            trainable=False)\n",
    "\n",
    "embedding_claim = Embedding(vocab_size + 1,\n",
    "                            embedding_dim,\n",
    "                            embeddings_initializer=Constant(embedding_matrix),\n",
    "                            input_length=claim_size,\n",
    "                            trainable=False)"
   ]
  },
  {
   "cell_type": "code",
   "execution_count": 11,
   "metadata": {},
   "outputs": [
    {
     "name": "stdout",
     "output_type": "stream",
     "text": [
      "input body (?, 9, 15)\n",
      "input claim (?, 15)\n",
      "input p_tfidf (?, 9)\n"
     ]
    }
   ],
   "source": [
    "# initialize input placeholders and embed pre-trained word vectors\n",
    "input_body = Input(shape=(n_pars, par_size,), dtype='int32', name='docs')\n",
    "input_claim = Input(shape=(claim_size,), dtype='int32', name='claims')\n",
    "input_p_tfidf = Input(shape=(n_pars,), dtype='float32', name='tfidf')\n",
    "\n",
    "print('input body', input_body.shape)     # (?, 9, 15)\n",
    "print('input claim', input_claim.shape)    # (?, 15)\n",
    "print('input p_tfidf', input_p_tfidf.shape)  # (?, 9)"
   ]
  },
  {
   "cell_type": "code",
   "execution_count": 12,
   "metadata": {},
   "outputs": [
    {
     "name": "stdout",
     "output_type": "stream",
     "text": [
      "embedded body (?, 9, 15, 25)\n",
      "embedded claim (?, 15, 25)\n"
     ]
    }
   ],
   "source": [
    "embedded_body = embedding_body(input_body)\n",
    "embedded_claim = embedding_claim(input_claim)\n",
    "\n",
    "print('embedded body', embedded_body.shape)   # (?, 9, 15, 25)\n",
    "print('embedded claim', embedded_claim.shape)  # (?, 15, 25)"
   ]
  },
  {
   "cell_type": "markdown",
   "metadata": {},
   "source": [
    "# CNNs"
   ]
  },
  {
   "cell_type": "markdown",
   "metadata": {},
   "source": [
    "## Paragraphs"
   ]
  },
  {
   "cell_type": "code",
   "execution_count": 13,
   "metadata": {},
   "outputs": [],
   "source": [
    "# train two 1D convnets (should be time distributed with maxout layer)\n",
    "cnn_body = TimeDistributed(Conv1D(100, 5, padding='valid', activation='relu'), name='CNN_docs')(embedded_body)\n",
    "cnn_body = Lambda(lambda x: K.max(x, axis=-1, keepdims=False), name='CNN_maxout_docs')(cnn_body)  # this should be maxout\n",
    "#cnn_body = Lambda(lambda x: tf.contrib.layers.maxout(x, num_units=1))(cnn_body) ## does not work for some reason!!?"
   ]
  },
  {
   "cell_type": "markdown",
   "metadata": {},
   "source": [
    "## Claims"
   ]
  },
  {
   "cell_type": "code",
   "execution_count": 14,
   "metadata": {},
   "outputs": [],
   "source": [
    "cnn_claim = Conv1D(100, 5, padding='valid', activation='relu', name='CNN_claims')(embedded_claim)\n",
    "cnn_claim = Lambda(lambda x: K.max(x, axis=-1, keepdims=False), name='CNN_maxout_claims')(cnn_claim)  # this should be maxout\n",
    "#cnn_claim = Lambda(lambda x: tf.contrib.layers.maxout(x, num_units=1))(cnn_claim) ## does not work"
   ]
  },
  {
   "cell_type": "markdown",
   "metadata": {},
   "source": [
    "For Maxout, we take the maximum value of the 100 values in the vector extracted by the CNN"
   ]
  },
  {
   "cell_type": "code",
   "execution_count": 15,
   "metadata": {},
   "outputs": [
    {
     "name": "stdout",
     "output_type": "stream",
     "text": [
      "cnn_body shape (?, 9, 11)\n",
      "cnn_claim shape (?, 11)\n"
     ]
    }
   ],
   "source": [
    "# maxout eliminates the last dimension from the cnn representations:\n",
    "# converts cnn_body with shape (?, 9, 11, 100) to (?, 9, 11)\n",
    "# and cnn_claim with shape (?, 11, 100) to (?, 11)\n",
    "print('cnn_body shape', cnn_body.shape)  # (?, 9, 11)\n",
    "print('cnn_claim shape', cnn_claim.shape)  # (?, 11)"
   ]
  },
  {
   "cell_type": "markdown",
   "metadata": {},
   "source": [
    "# LSTMs\n",
    "\n",
    "- TimeDistributed for documents\n",
    "- simple for claims"
   ]
  },
  {
   "cell_type": "code",
   "execution_count": 16,
   "metadata": {},
   "outputs": [
    {
     "name": "stdout",
     "output_type": "stream",
     "text": [
      "lstm body (?, 9, 100)\n",
      "lstm claim (?, 100)\n"
     ]
    }
   ],
   "source": [
    "# train two lstms\n",
    "lstm_body = TimeDistributed(LSTM(100), name=\"LSTM_docs\")(embedded_body)\n",
    "lstm_claim = (LSTM(100, name=\"LSTM_claims\"))(embedded_claim)\n",
    "\n",
    "print('lstm body', lstm_body.shape) # (?, 9, 100)\n",
    "print('lstm claim', lstm_claim.shape) # (?, 100)"
   ]
  },
  {
   "cell_type": "code",
   "execution_count": 17,
   "metadata": {},
   "outputs": [
    {
     "name": "stdout",
     "output_type": "stream",
     "text": [
      "lstm_body * p_tfidf (?, 9, 100)\n"
     ]
    }
   ],
   "source": [
    "# reshape tfidf sim matrix layer from (?, 9) into (?, 9, 1)\n",
    "reshaped_p_tfidf = Reshape((n_pars, 1), name=\"reshape_tfidf\")(input_p_tfidf)\n",
    "lstm_body = multiply([lstm_body, reshaped_p_tfidf], name=\"\")\n",
    "### tensor shapes: (samples, n_pars, 100) * (samples, n_pars, 1) => (?, 9, 100)\n",
    "print('lstm_body * p_tfidf', lstm_body.shape)  # (?, 9, 100)"
   ]
  },
  {
   "cell_type": "markdown",
   "metadata": {},
   "source": [
    "# P_lstm"
   ]
  },
  {
   "cell_type": "code",
   "execution_count": 18,
   "metadata": {},
   "outputs": [
    {
     "name": "stdout",
     "output_type": "stream",
     "text": [
      "p_lstm (?, 9)\n"
     ]
    }
   ],
   "source": [
    "## p_lstm = lstm_claim.T x M x lstm_body[j]  a.k.a. wtf is M?\n",
    "## if normalize=True, then the output of the dot product is the cosine similarity between the two samples\n",
    "p_lstm = dot([lstm_body, lstm_claim], axes=(2, 1), normalize=True, name=\"P_lstm\")\n",
    "print('p_lstm', p_lstm.shape)  # (samples, 9)"
   ]
  },
  {
   "cell_type": "code",
   "execution_count": 19,
   "metadata": {},
   "outputs": [],
   "source": [
    "### cnn_body = cnn_body * p_lstm\n",
    "# reshape sim matrix layer from (?, 9) into (?, 9, 1)\n",
    "p_lstm = Reshape((n_pars, 1), name=\"P_lstm_reshape\")(p_lstm)"
   ]
  },
  {
   "cell_type": "code",
   "execution_count": 20,
   "metadata": {},
   "outputs": [
    {
     "name": "stdout",
     "output_type": "stream",
     "text": [
      "p_lstm (?, 9, 1)\n"
     ]
    }
   ],
   "source": [
    "print('p_lstm', p_lstm.shape)  # (samples, 9)"
   ]
  },
  {
   "cell_type": "markdown",
   "metadata": {},
   "source": [
    "# P_cnn"
   ]
  },
  {
   "cell_type": "code",
   "execution_count": 21,
   "metadata": {},
   "outputs": [
    {
     "name": "stdout",
     "output_type": "stream",
     "text": [
      "cnn_body * p_lstm (?, 9, 11)\n",
      "cnn_claim (?, 11)\n"
     ]
    }
   ],
   "source": [
    "cnn_body = multiply([cnn_body, p_lstm])\n",
    "print('cnn_body * p_lstm', cnn_body.shape) # (?, 9, 11)\n",
    "print('cnn_claim', cnn_claim.shape)        # (?, 11)"
   ]
  },
  {
   "cell_type": "code",
   "execution_count": 22,
   "metadata": {},
   "outputs": [
    {
     "name": "stdout",
     "output_type": "stream",
     "text": [
      "p_cnn (?, 9)\n"
     ]
    }
   ],
   "source": [
    "## p_cnn = cnn_claim.T x M' x cnn_body[j]  a.k.a. wtf is M'?\n",
    "## if normalize=True, then the output of the dot product is the cosine similarity between the two samples\n",
    "p_cnn = dot([cnn_body, cnn_claim], axes=(2, 1), normalize=True, name=\"P_cnn\")\n",
    "print('p_cnn', p_cnn.shape)  # (?, 9)"
   ]
  },
  {
   "cell_type": "code",
   "execution_count": 23,
   "metadata": {},
   "outputs": [
    {
     "name": "stdout",
     "output_type": "stream",
     "text": [
      "mean cnn body (?, 9)\n"
     ]
    }
   ],
   "source": [
    "# no clue whats going from here onward\n",
    "## o = [mean(cnn_body); [max(p_cnn); mean(p_cnn)]; [max(p_lstm); mean(p_lstm)]; [max(p_tfidf); mean(p_tfidf)]]\n",
    "mean_cnn_body = Lambda(lambda x: K.mean(x, axis=2), name=\"mean_cnn_body\")(cnn_body)\n",
    "print('mean cnn body', mean_cnn_body.shape)  # (?, 9)"
   ]
  },
  {
   "cell_type": "markdown",
   "metadata": {},
   "source": [
    "# O"
   ]
  },
  {
   "cell_type": "code",
   "execution_count": 24,
   "metadata": {},
   "outputs": [],
   "source": [
    "# taking mean and max similarities\n",
    "max_p_cnn = Lambda(lambda x: K.max(x, axis=1), name=\"max_p_cnn\")(p_cnn)\n",
    "mean_p_cnn = Lambda(lambda x: K.mean(x, axis=1), name=\"mean_p_cnn\")(p_cnn)\n",
    "max_p_lstm = Lambda(lambda x: K.max(x, axis=1), name=\"max_p_lstm\")(p_lstm)\n",
    "mean_p_lstm = Lambda(lambda x: K.mean(x, axis=1), name=\"mean_p_lstm\")(p_lstm)\n",
    "max_p_tfidf = Lambda(lambda x: K.max(x, axis=1), name=\"max_p_tfidf\")(reshaped_p_tfidf)\n",
    "mean_p_tfidf = Lambda(lambda x: K.mean(x, axis=1), name=\"mean_p_tfidf\")(reshaped_p_tfidf)"
   ]
  },
  {
   "cell_type": "code",
   "execution_count": 25,
   "metadata": {},
   "outputs": [],
   "source": [
    "# reshape some layers to make their dimensions compatible\n",
    "max_p_cnn = Reshape((1,), name=\"max_p_cnn_reshape\")(max_p_cnn)\n",
    "mean_p_cnn = Reshape((1,), name=\"mean_p_cnn_reshape\")(mean_p_cnn)"
   ]
  },
  {
   "cell_type": "code",
   "execution_count": 26,
   "metadata": {},
   "outputs": [
    {
     "name": "stdout",
     "output_type": "stream",
     "text": [
      "output (?, 15)\n"
     ]
    }
   ],
   "source": [
    "output = concatenate([mean_cnn_body,\n",
    "                      max_p_cnn, mean_p_cnn,\n",
    "                      max_p_lstm, mean_p_lstm,\n",
    "                      max_p_tfidf, mean_p_tfidf],\n",
    "                    name=\"O_concatenate\")\n",
    "\n",
    "print('output', output.shape)  # (?, 15)"
   ]
  },
  {
   "cell_type": "code",
   "execution_count": 27,
   "metadata": {},
   "outputs": [
    {
     "name": "stdout",
     "output_type": "stream",
     "text": [
      "response layer: (?, 126)\n"
     ]
    }
   ],
   "source": [
    "response = concatenate([output, lstm_claim, cnn_claim], name=\"input_for_dense_R\")\n",
    "print('response layer:', response.shape)   # (?, 126)"
   ]
  },
  {
   "cell_type": "code",
   "execution_count": 28,
   "metadata": {},
   "outputs": [],
   "source": [
    "# home stretch\n",
    "stance = Dense(300, activation='relu', name=\"dense\")(response)\n",
    "stance = Dropout(0.3)(stance)\n",
    "preds = Dense(output_size, activation='softmax')(stance)"
   ]
  },
  {
   "cell_type": "code",
   "execution_count": 29,
   "metadata": {},
   "outputs": [],
   "source": [
    "# build the model\n",
    "model = Model([input_body, input_claim, input_p_tfidf], preds)\n",
    "model.compile(optimizer='rmsprop',\n",
    "              loss='sparse_categorical_crossentropy',\n",
    "              metrics=['accuracy'])"
   ]
  },
  {
   "cell_type": "markdown",
   "metadata": {},
   "source": [
    "# Diagram of model"
   ]
  },
  {
   "cell_type": "code",
   "execution_count": 34,
   "metadata": {},
   "outputs": [],
   "source": [
    "utils.plot_model(model, to_file='model.png', show_shapes=True)"
   ]
  },
  {
   "cell_type": "markdown",
   "metadata": {},
   "source": [
    "# Train"
   ]
  },
  {
   "cell_type": "code",
   "execution_count": 37,
   "metadata": {},
   "outputs": [],
   "source": [
    "filepath=\"model-{epoch:02d}-{val_acc:.2f}.hdf5\"\n",
    "checkpoint = ModelCheckpoint(filepath, monitor='val_acc', verbose=1, save_best_only=True, mode='max')"
   ]
  },
  {
   "cell_type": "code",
   "execution_count": 39,
   "metadata": {},
   "outputs": [
    {
     "name": "stdout",
     "output_type": "stream",
     "text": [
      "Train on 39977 samples, validate on 9995 samples\n",
      "Epoch 1/25\n",
      "39977/39977 [==============================] - 34s 851us/step - loss: 0.5365 - acc: 0.7952 - val_loss: 0.5370 - val_acc: 0.7953\n",
      "\n",
      "Epoch 00001: val_acc improved from 0.75078 to 0.79530, saving model to model-01-0.80.hdf5\n",
      "Epoch 2/25\n",
      "39977/39977 [==============================] - 34s 852us/step - loss: 0.4711 - acc: 0.8196 - val_loss: 0.4841 - val_acc: 0.8148\n",
      "\n",
      "Epoch 00002: val_acc improved from 0.79530 to 0.81481, saving model to model-02-0.81.hdf5\n",
      "Epoch 3/25\n",
      "39977/39977 [==============================] - 34s 850us/step - loss: 0.4244 - acc: 0.8374 - val_loss: 0.4441 - val_acc: 0.8351\n",
      "\n",
      "Epoch 00003: val_acc improved from 0.81481 to 0.83512, saving model to model-03-0.84.hdf5\n",
      "Epoch 4/25\n",
      "39977/39977 [==============================] - 34s 850us/step - loss: 0.3875 - acc: 0.8503 - val_loss: 0.4454 - val_acc: 0.8398\n",
      "\n",
      "Epoch 00004: val_acc improved from 0.83512 to 0.83982, saving model to model-04-0.84.hdf5\n",
      "Epoch 5/25\n",
      "39977/39977 [==============================] - 34s 851us/step - loss: 0.3585 - acc: 0.8604 - val_loss: 0.4386 - val_acc: 0.8333\n",
      "\n",
      "Epoch 00005: val_acc did not improve from 0.83982\n",
      "Epoch 6/25\n",
      "39977/39977 [==============================] - 34s 849us/step - loss: 0.3341 - acc: 0.8715 - val_loss: 0.4177 - val_acc: 0.8483\n",
      "\n",
      "Epoch 00006: val_acc improved from 0.83982 to 0.84832, saving model to model-06-0.85.hdf5\n",
      "Epoch 7/25\n",
      "39977/39977 [==============================] - 34s 852us/step - loss: 0.3143 - acc: 0.8761 - val_loss: 0.4692 - val_acc: 0.8444\n",
      "\n",
      "Epoch 00007: val_acc did not improve from 0.84832\n",
      "Epoch 8/25\n",
      "39977/39977 [==============================] - 34s 850us/step - loss: 0.2980 - acc: 0.8833 - val_loss: 0.4443 - val_acc: 0.8442\n",
      "\n",
      "Epoch 00008: val_acc did not improve from 0.84832\n",
      "Epoch 9/25\n",
      "39977/39977 [==============================] - 34s 851us/step - loss: 0.2837 - acc: 0.8902 - val_loss: 0.4332 - val_acc: 0.8573\n",
      "\n",
      "Epoch 00009: val_acc improved from 0.84832 to 0.85733, saving model to model-09-0.86.hdf5\n",
      "Epoch 10/25\n",
      "39977/39977 [==============================] - 34s 851us/step - loss: 0.2748 - acc: 0.8931 - val_loss: 0.4436 - val_acc: 0.8500\n",
      "\n",
      "Epoch 00010: val_acc did not improve from 0.85733\n",
      "Epoch 11/25\n",
      "39977/39977 [==============================] - 34s 850us/step - loss: 0.2621 - acc: 0.8975 - val_loss: 0.4670 - val_acc: 0.8535\n",
      "\n",
      "Epoch 00011: val_acc did not improve from 0.85733\n",
      "Epoch 12/25\n",
      "39977/39977 [==============================] - 34s 852us/step - loss: 0.2556 - acc: 0.9005 - val_loss: 0.4539 - val_acc: 0.8609\n",
      "\n",
      "Epoch 00012: val_acc improved from 0.85733 to 0.86093, saving model to model-12-0.86.hdf5\n",
      "Epoch 13/25\n",
      "39977/39977 [==============================] - 34s 853us/step - loss: 0.2477 - acc: 0.9030 - val_loss: 0.4586 - val_acc: 0.8642\n",
      "\n",
      "Epoch 00013: val_acc improved from 0.86093 to 0.86423, saving model to model-13-0.86.hdf5\n",
      "Epoch 14/25\n",
      "39977/39977 [==============================] - 34s 856us/step - loss: 0.2447 - acc: 0.9054 - val_loss: 0.4768 - val_acc: 0.8621\n",
      "\n",
      "Epoch 00014: val_acc did not improve from 0.86423\n",
      "Epoch 15/25\n",
      "39977/39977 [==============================] - 34s 855us/step - loss: 0.2371 - acc: 0.9069 - val_loss: 0.4784 - val_acc: 0.8590\n",
      "\n",
      "Epoch 00015: val_acc did not improve from 0.86423\n",
      "Epoch 16/25\n",
      "39977/39977 [==============================] - 34s 855us/step - loss: 0.2347 - acc: 0.9092 - val_loss: 0.4893 - val_acc: 0.8623\n",
      "\n",
      "Epoch 00016: val_acc did not improve from 0.86423\n",
      "Epoch 17/25\n",
      "39977/39977 [==============================] - 34s 855us/step - loss: 0.2304 - acc: 0.9088 - val_loss: 0.4937 - val_acc: 0.8674\n",
      "\n",
      "Epoch 00017: val_acc improved from 0.86423 to 0.86743, saving model to model-17-0.87.hdf5\n",
      "Epoch 18/25\n",
      "39977/39977 [==============================] - 34s 861us/step - loss: 0.2257 - acc: 0.9115 - val_loss: 0.5267 - val_acc: 0.8608\n",
      "\n",
      "Epoch 00018: val_acc did not improve from 0.86743\n",
      "Epoch 19/25\n",
      "39977/39977 [==============================] - 34s 859us/step - loss: 0.2219 - acc: 0.9131 - val_loss: 0.5248 - val_acc: 0.8666\n",
      "\n",
      "Epoch 00019: val_acc did not improve from 0.86743\n",
      "Epoch 20/25\n",
      "39977/39977 [==============================] - 34s 855us/step - loss: 0.2225 - acc: 0.9150 - val_loss: 0.5311 - val_acc: 0.8669\n",
      "\n",
      "Epoch 00020: val_acc did not improve from 0.86743\n",
      "Epoch 21/25\n",
      "39977/39977 [==============================] - 34s 857us/step - loss: 0.2194 - acc: 0.9144 - val_loss: 0.5387 - val_acc: 0.8658\n",
      "\n",
      "Epoch 00021: val_acc did not improve from 0.86743\n",
      "Epoch 22/25\n",
      "39977/39977 [==============================] - 34s 857us/step - loss: 0.2152 - acc: 0.9171 - val_loss: 0.5577 - val_acc: 0.8704\n",
      "\n",
      "Epoch 00022: val_acc improved from 0.86743 to 0.87044, saving model to model-22-0.87.hdf5\n",
      "Epoch 23/25\n",
      "39977/39977 [==============================] - 34s 859us/step - loss: 0.2169 - acc: 0.9159 - val_loss: 0.5358 - val_acc: 0.8713\n",
      "\n",
      "Epoch 00023: val_acc improved from 0.87044 to 0.87134, saving model to model-23-0.87.hdf5\n",
      "Epoch 24/25\n",
      "39977/39977 [==============================] - 35s 878us/step - loss: 0.2111 - acc: 0.9178 - val_loss: 0.5547 - val_acc: 0.8661\n",
      "\n",
      "Epoch 00024: val_acc did not improve from 0.87134\n",
      "Epoch 25/25\n",
      "39977/39977 [==============================] - 34s 859us/step - loss: 0.2115 - acc: 0.9167 - val_loss: 0.5841 - val_acc: 0.8659\n",
      "\n",
      "Epoch 00025: val_acc did not improve from 0.87134\n"
     ]
    }
   ],
   "source": [
    "# train\n",
    "history = model.fit(\n",
    "    [train_body, train_claim, train_p_tfidf], train_labels,\n",
    "    batch_size=batch_size,\n",
    "    epochs=epochs,\n",
    "    validation_data=([val_body, val_claim, val_p_tfidf], val_labels),\n",
    "    callbacks=[checkpoint]\n",
    "         )"
   ]
  },
  {
   "cell_type": "markdown",
   "metadata": {},
   "source": [
    "# Plot training"
   ]
  },
  {
   "cell_type": "code",
   "execution_count": 43,
   "metadata": {},
   "outputs": [
    {
     "data": {
      "image/png": "[encoded data removed]",
      "text/plain": [
       "<Figure size 432x288 with 1 Axes>"
      ]
     },
     "metadata": {},
     "output_type": "display_data"
    },
    {
     "data": {
      "image/png": "[encoded data removed]",
      "text/plain": [
       "<Figure size 432x288 with 1 Axes>"
      ]
     },
     "metadata": {},
     "output_type": "display_data"
    }
   ],
   "source": [
    "# Plot training & validation accuracy values\n",
    "plt.plot(history.history['acc'])\n",
    "plt.plot(history.history['val_acc'])\n",
    "plt.title('Model accuracy')\n",
    "plt.ylabel('Accuracy')\n",
    "plt.xlabel('Epoch')\n",
    "plt.legend(['Train', 'Test'], loc='upper left')\n",
    "plt.show()\n",
    "\n",
    "# Plot training & validation loss values\n",
    "plt.plot(history.history['loss'])\n",
    "plt.plot(history.history['val_loss'])\n",
    "plt.title('Model loss')\n",
    "plt.ylabel('Loss')\n",
    "plt.xlabel('Epoch')\n",
    "plt.legend(['Train', 'Test'], loc='upper left')\n",
    "plt.show()"
   ]
  },
  {
   "cell_type": "markdown",
   "metadata": {},
   "source": [
    "# Exploring model layers"
   ]
  },
  {
   "cell_type": "code",
   "execution_count": 295,
   "metadata": {},
   "outputs": [
    {
     "ename": "ValueError",
     "evalue": "Error when checking input: expected docs to have 3 dimensions, but got array with shape (1, 10, 9, 15)",
     "output_type": "error",
     "traceback": [
      "\u001b[1;31m---------------------------------------------------------------------------\u001b[0m",
      "\u001b[1;31mValueError\u001b[0m                                Traceback (most recent call last)",
      "\u001b[1;32m<ipython-input-295-f2f7a2fec783>\u001b[0m in \u001b[0;36m<module>\u001b[1;34m()\u001b[0m\n\u001b[0;32m      6\u001b[0m                                  outputs=model.get_layer('P_cnn').output)\n\u001b[0;32m      7\u001b[0m \u001b[1;33m\u001b[0m\u001b[0m\n\u001b[1;32m----> 8\u001b[1;33m \u001b[0mp_cnn_pred\u001b[0m \u001b[1;33m=\u001b[0m \u001b[0mp_cnn_layer_model\u001b[0m\u001b[1;33m.\u001b[0m\u001b[0mpredict\u001b[0m\u001b[1;33m(\u001b[0m\u001b[0mone_input\u001b[0m\u001b[1;33m)\u001b[0m\u001b[1;33m\u001b[0m\u001b[0m\n\u001b[0m\u001b[0;32m      9\u001b[0m \u001b[1;33m\u001b[0m\u001b[0m\n\u001b[0;32m     10\u001b[0m \u001b[0mmost_sim_paragraph_index\u001b[0m \u001b[1;33m=\u001b[0m \u001b[0mp_cnn_pred\u001b[0m\u001b[1;33m.\u001b[0m\u001b[0margmax\u001b[0m\u001b[1;33m(\u001b[0m\u001b[1;33m)\u001b[0m\u001b[1;33m\u001b[0m\u001b[0m\n",
      "\u001b[1;32mC:\\Anaconda3\\lib\\site-packages\\keras\\engine\\training.py\u001b[0m in \u001b[0;36mpredict\u001b[1;34m(self, x, batch_size, verbose, steps)\u001b[0m\n\u001b[0;32m   1147\u001b[0m                              'argument.')\n\u001b[0;32m   1148\u001b[0m         \u001b[1;31m# Validate user data.\u001b[0m\u001b[1;33m\u001b[0m\u001b[1;33m\u001b[0m\u001b[0m\n\u001b[1;32m-> 1149\u001b[1;33m         \u001b[0mx\u001b[0m\u001b[1;33m,\u001b[0m \u001b[0m_\u001b[0m\u001b[1;33m,\u001b[0m \u001b[0m_\u001b[0m \u001b[1;33m=\u001b[0m \u001b[0mself\u001b[0m\u001b[1;33m.\u001b[0m\u001b[0m_standardize_user_data\u001b[0m\u001b[1;33m(\u001b[0m\u001b[0mx\u001b[0m\u001b[1;33m)\u001b[0m\u001b[1;33m\u001b[0m\u001b[0m\n\u001b[0m\u001b[0;32m   1150\u001b[0m         \u001b[1;32mif\u001b[0m \u001b[0mself\u001b[0m\u001b[1;33m.\u001b[0m\u001b[0mstateful\u001b[0m\u001b[1;33m:\u001b[0m\u001b[1;33m\u001b[0m\u001b[0m\n\u001b[0;32m   1151\u001b[0m             \u001b[1;32mif\u001b[0m \u001b[0mx\u001b[0m\u001b[1;33m[\u001b[0m\u001b[1;36m0\u001b[0m\u001b[1;33m]\u001b[0m\u001b[1;33m.\u001b[0m\u001b[0mshape\u001b[0m\u001b[1;33m[\u001b[0m\u001b[1;36m0\u001b[0m\u001b[1;33m]\u001b[0m \u001b[1;33m>\u001b[0m \u001b[0mbatch_size\u001b[0m \u001b[1;32mand\u001b[0m \u001b[0mx\u001b[0m\u001b[1;33m[\u001b[0m\u001b[1;36m0\u001b[0m\u001b[1;33m]\u001b[0m\u001b[1;33m.\u001b[0m\u001b[0mshape\u001b[0m\u001b[1;33m[\u001b[0m\u001b[1;36m0\u001b[0m\u001b[1;33m]\u001b[0m \u001b[1;33m%\u001b[0m \u001b[0mbatch_size\u001b[0m \u001b[1;33m!=\u001b[0m \u001b[1;36m0\u001b[0m\u001b[1;33m:\u001b[0m\u001b[1;33m\u001b[0m\u001b[0m\n",
      "\u001b[1;32mC:\\Anaconda3\\lib\\site-packages\\keras\\engine\\training.py\u001b[0m in \u001b[0;36m_standardize_user_data\u001b[1;34m(self, x, y, sample_weight, class_weight, check_array_lengths, batch_size)\u001b[0m\n\u001b[0;32m    749\u001b[0m             \u001b[0mfeed_input_shapes\u001b[0m\u001b[1;33m,\u001b[0m\u001b[1;33m\u001b[0m\u001b[0m\n\u001b[0;32m    750\u001b[0m             \u001b[0mcheck_batch_axis\u001b[0m\u001b[1;33m=\u001b[0m\u001b[1;32mFalse\u001b[0m\u001b[1;33m,\u001b[0m  \u001b[1;31m# Don't enforce the batch size.\u001b[0m\u001b[1;33m\u001b[0m\u001b[0m\n\u001b[1;32m--> 751\u001b[1;33m             exception_prefix='input')\n\u001b[0m\u001b[0;32m    752\u001b[0m \u001b[1;33m\u001b[0m\u001b[0m\n\u001b[0;32m    753\u001b[0m         \u001b[1;32mif\u001b[0m \u001b[0my\u001b[0m \u001b[1;32mis\u001b[0m \u001b[1;32mnot\u001b[0m \u001b[1;32mNone\u001b[0m\u001b[1;33m:\u001b[0m\u001b[1;33m\u001b[0m\u001b[0m\n",
      "\u001b[1;32mC:\\Anaconda3\\lib\\site-packages\\keras\\engine\\training_utils.py\u001b[0m in \u001b[0;36mstandardize_input_data\u001b[1;34m(data, names, shapes, check_batch_axis, exception_prefix)\u001b[0m\n\u001b[0;32m    126\u001b[0m                         \u001b[1;34m': expected '\u001b[0m \u001b[1;33m+\u001b[0m \u001b[0mnames\u001b[0m\u001b[1;33m[\u001b[0m\u001b[0mi\u001b[0m\u001b[1;33m]\u001b[0m \u001b[1;33m+\u001b[0m \u001b[1;34m' to have '\u001b[0m \u001b[1;33m+\u001b[0m\u001b[1;33m\u001b[0m\u001b[0m\n\u001b[0;32m    127\u001b[0m                         \u001b[0mstr\u001b[0m\u001b[1;33m(\u001b[0m\u001b[0mlen\u001b[0m\u001b[1;33m(\u001b[0m\u001b[0mshape\u001b[0m\u001b[1;33m)\u001b[0m\u001b[1;33m)\u001b[0m \u001b[1;33m+\u001b[0m \u001b[1;34m' dimensions, but got array '\u001b[0m\u001b[1;33m\u001b[0m\u001b[0m\n\u001b[1;32m--> 128\u001b[1;33m                         'with shape ' + str(data_shape))\n\u001b[0m\u001b[0;32m    129\u001b[0m                 \u001b[1;32mif\u001b[0m \u001b[1;32mnot\u001b[0m \u001b[0mcheck_batch_axis\u001b[0m\u001b[1;33m:\u001b[0m\u001b[1;33m\u001b[0m\u001b[0m\n\u001b[0;32m    130\u001b[0m                     \u001b[0mdata_shape\u001b[0m \u001b[1;33m=\u001b[0m \u001b[0mdata_shape\u001b[0m\u001b[1;33m[\u001b[0m\u001b[1;36m1\u001b[0m\u001b[1;33m:\u001b[0m\u001b[1;33m]\u001b[0m\u001b[1;33m\u001b[0m\u001b[0m\n",
      "\u001b[1;31mValueError\u001b[0m: Error when checking input: expected docs to have 3 dimensions, but got array with shape (1, 10, 9, 15)"
     ]
    }
   ],
   "source": [
    "NR_ENTRY = \n",
    "\n",
    "one_input = [[val_body[NR_ENTRY]], [val_claim[NR_ENTRY]], [val_p_tfidf[NR_ENTRY]]]\n",
    "\n",
    "p_cnn_layer_model = Model(inputs=model.input,\n",
    "                                 outputs=model.get_layer('P_cnn').output)\n",
    "\n",
    "p_cnn_pred = p_cnn_layer_model.predict(one_input)\n",
    "\n",
    "most_sim_paragraph_index = p_cnn_pred.argmax()\n",
    "\n",
    "most_sim_paragraph = [index2word[w] for w in one_input[0][0][most_sim_paragraph_index]]\n",
    "\n",
    "# Full body\n",
    "\n",
    "#[[index2word[w] for w in one_input[0][0][i]] for i in range(9)]\n",
    "\n",
    "print(\"claim: \", [index2word[w] if w!=0 else 0 for w in one_input[1][0]])\n",
    "\n",
    "cnn_maxout_layer_model = Model(inputs=model.input,\n",
    "                                 outputs=model.get_layer('CNN_maxout_docs').output)\n",
    "\n",
    "cnn_maxout_pred = cnn_maxout_layer_model.predict(one_input)\n",
    "\n",
    "cnn_maxout_pred.shape\n",
    "\n",
    "ngramindex = cnn_maxout_pred[0][most_sim_paragraph_index].argmax()\n",
    "\n",
    "print(\"most sim ngram: \", most_sim_paragraph[ngramindex:ngramindex+5])\n",
    "\n",
    "print(\"stance: \", model.predict(one_input).argmax())"
   ]
  },
  {
   "cell_type": "markdown",
   "metadata": {},
   "source": [
    "```\n",
    "    df.loc[df['Stance'] == 'unrelated', 'Stance'] = 0\n",
    "    df.loc[df['Stance'] == 'discuss', 'Stance'] = 1\n",
    "    df.loc[df['Stance'] == 'agree', 'Stance'] = 2\n",
    "    df.loc[df['Stance'] == 'disagree', 'Stance'] = 3\n",
    "    ```"
   ]
  },
  {
   "cell_type": "code",
   "execution_count": null,
   "metadata": {},
   "outputs": [],
   "source": []
  }
 ],
 "metadata": {
  "kernelspec": {
   "display_name": "Python 3",
   "language": "python",
   "name": "python3"
  },
  "language_info": {
   "codemirror_mode": {
    "name": "ipython",
    "version": 3
   },
   "file_extension": ".py",
   "mimetype": "text/x-python",
   "name": "python",
   "nbconvert_exporter": "python",
   "pygments_lexer": "ipython3",
   "version": "3.6.5"
  }
 },
 "nbformat": 4,
 "nbformat_minor": 2
}
