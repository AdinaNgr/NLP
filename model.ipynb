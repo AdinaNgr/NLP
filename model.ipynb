{
 "cells": [
  {
   "cell_type": "code",
   "execution_count": 29,
   "metadata": {},
   "outputs": [],
   "source": [
    "%matplotlib inline\n",
    "\n",
    "from __future__ import print_function\n",
    "\n",
    "import numpy as np\n",
    "from sklearn.model_selection import train_test_split\n",
    "from dataproc_utils import load_wordvecs, load_file, read_proc_data\n",
    "from dataproc_utils import make_word_freq_V, word2idx\n",
    "from dataproc_utils import vocab_vectorizer, random_sampler\n",
    "from tfidf_cosine_similarity import tfidf_fit_transform\n",
    "\n",
    "import keras\n",
    "from keras.models import Model\n",
    "from keras.layers.embeddings import Embedding\n",
    "from keras.layers import Input, Dense, Reshape, Dropout\n",
    "from keras.layers import dot, multiply, concatenate\n",
    "from keras.layers import LSTM, Conv1D, TimeDistributed, Lambda\n",
    "from keras.initializers import Constant\n",
    "from keras import backend as K\n",
    "from keras.callbacks import ModelCheckpoint\n",
    "\n",
    "from sklearn.metrics import f1_score\n",
    "from sklearn.metrics import precision_recall_fscore_support\n",
    "from sklearn.metrics import confusion_matrix\n",
    "from dataproc_utils import plot_confusion_matrix, compute_weighted_accuracy\n",
    "\n",
    "from collections import Counter\n",
    "from matplotlib import pyplot as plt"
   ]
  },
  {
   "cell_type": "markdown",
   "metadata": {},
   "source": [
    "# Global variables"
   ]
  },
  {
   "cell_type": "code",
   "execution_count": 30,
   "metadata": {},
   "outputs": [],
   "source": [
    "batch_size = 128\n",
    "epochs = 15\n",
    "random_state = 42\n",
    "n_pars = 9 # max number of paragraphs from each document\n",
    "par_size = 15  # max paragraph length (num of words in each paragraph)\n",
    "claim_size = 15  # max num of words in each claim\n",
    "embedding_dim = 100  # size of the pre-trained glove embeddings\n",
    "output_size = 4  # size of the output vector, corresponds to the number of classes"
   ]
  },
  {
   "cell_type": "markdown",
   "metadata": {},
   "source": [
    "# Embeddings from Glove\n",
    "\n",
    "Only the words we use"
   ]
  },
  {
   "cell_type": "code",
   "execution_count": 31,
   "metadata": {},
   "outputs": [
    {
     "name": "stdout",
     "output_type": "stream",
     "text": [
      "17354 pretrained embeddings\n",
      "Shape of similarity matrix train p_tfidf: (39977, 9)\n",
      "Vocab size: 17256 unique words in the train set which have glove embeddings\n"
     ]
    }
   ],
   "source": [
    "# open saved wordvecs from file\n",
    "w2v = load_wordvecs('twitter_glo_vecs\\\\train_wordvecs100d.txt')\n",
    "print(len(w2v), 'pretrained embeddings')\n",
    "\n",
    "# load data and labels\n",
    "bodies_train = load_file('processed_data\\\\train_bodies.txt')\n",
    "claims_train = load_file('processed_data\\\\train_claims.txt')\n",
    "bodies_test = load_file('processed_data\\\\test_bodies.txt')\n",
    "claims_test = load_file('processed_data\\\\test_claims.txt')\n",
    "\n",
    "data_train = read_proc_data(bodies_train, claims_train, split_pars=True)\n",
    "y_train = np.array([label for _, _, label in data_train])\n",
    "\n",
    "data_test = read_proc_data(bodies_test, claims_test, split_pars=True)\n",
    "y_test = np.array([label for _, _, label in data_test])\n",
    "\n",
    "# train/validation split\n",
    "train_data, val_data, train_labels, val_labels = train_test_split(data_train, y_train,\n",
    "                                                                  test_size=.2,\n",
    "                                                                  random_state=random_state)\n",
    "\n",
    "# compute cos similarities after splitting into train/val or load the precomputed ones\n",
    "# you have to recompute the similarities each time you change the random state or size of train/val split\n",
    "# train_p_tfidf, val_p_tfidf, test_p_tfidf = tfidf_fit_transform(train_data, val_data, data_test)\n",
    "\n",
    "# load pre-computed p_tfidf similarity matrix for train data\n",
    "train_p_tfidf = np.loadtxt('processed_data\\\\p_tfidf_train.txt', dtype=np.float32)\n",
    "val_p_tfidf = np.loadtxt('processed_data\\\\p_tfidf_val.txt', dtype=np.float32)\n",
    "test_p_tfidf = np.loadtxt('processed_data\\\\p_tfidf_test.txt', dtype=np.float32)\n",
    "print('Shape of similarity matrix train p_tfidf:', train_p_tfidf.shape)\n",
    "\n",
    "\n",
    "# create a vocabulary dict from train data (we exclude rare words, which appear only once)\n",
    "word2freq = make_word_freq_V(train_data, fmin=1)\n",
    "word2index = word2idx(word2freq, pretrained=w2v)\n",
    "vocab_size = len(word2index)\n",
    "print('Vocab size:', vocab_size, 'unique words in the train set which have glove embeddings')\n",
    "\n",
    "# vectorize input words (turn each word into its index from the word2index dict)\n",
    "# for new words in test set that don't appear in train set, use index of <unknown>\n",
    "train_body, train_claim = vocab_vectorizer(train_data, word2index, max_par_len=par_size, max_claim_len=claim_size)\n",
    "val_body, val_claim = vocab_vectorizer(val_data, word2index, max_par_len=par_size, max_claim_len=claim_size)\n",
    "test_body, test_claim = vocab_vectorizer(data_test, word2index, max_par_len=par_size, max_claim_len=claim_size)"
   ]
  },
  {
   "cell_type": "markdown",
   "metadata": {},
   "source": [
    "# Oversampling"
   ]
  },
  {
   "cell_type": "code",
   "execution_count": 32,
   "metadata": {},
   "outputs": [],
   "source": [
    "# perform random under/over sampling to prevent class imbalance\n",
    "# over-sampling shows better results\n",
    "train_body, train_claim, train_p_tfidf, train_labels = random_sampler(train_body,\n",
    "                                                                      train_claim,\n",
    "                                                                      train_p_tfidf,\n",
    "                                                                      train_labels, type='over')"
   ]
  },
  {
   "cell_type": "code",
   "execution_count": 33,
   "metadata": {},
   "outputs": [],
   "source": [
    "np.save('bodies.npy', [train_body, val_body, test_body])\n",
    "np.save('claims.npy', [train_claim, val_claim, test_claim])\n",
    "np.save('ptfidf.npy', [train_p_tfidf, val_p_tfidf, test_p_tfidf])\n",
    "np.save('labels.npy', [train_labels, val_labels, y_test])"
   ]
  },
  {
   "cell_type": "code",
   "execution_count": 34,
   "metadata": {},
   "outputs": [],
   "source": [
    "train_body, val_body, test_body = np.load('bodies.npy')\n",
    "train_claim, val_claim, test_claim = np.load('claims.npy')\n",
    "train_p_tfidf, val_p_tfidf, test_p_tfidf = np.load('ptfidf.npy')\n",
    "train_labels, val_labels, test_labels = np.load('labels.npy')"
   ]
  },
  {
   "cell_type": "code",
   "execution_count": 35,
   "metadata": {},
   "outputs": [],
   "source": [
    "# prepare embedding matrix\n",
    "embedding_matrix = np.zeros((vocab_size + 1, embedding_dim))\n",
    "for w, i in word2index.items():\n",
    "    embedding_matrix[i] = w2v[w]"
   ]
  },
  {
   "cell_type": "markdown",
   "metadata": {},
   "source": [
    "# Embeddings"
   ]
  },
  {
   "cell_type": "code",
   "execution_count": 36,
   "metadata": {},
   "outputs": [],
   "source": [
    "# load pre-trained word vectors into embedding layers\n",
    "# we set trainable to false to keep the embeddings fixed\n",
    "embedding_body = Embedding(vocab_size + 1,\n",
    "                            embedding_dim,\n",
    "                            embeddings_initializer=Constant(embedding_matrix),\n",
    "                            input_length=(n_pars, par_size,),\n",
    "                            trainable=False)\n",
    "\n",
    "embedding_claim = Embedding(vocab_size + 1,\n",
    "                            embedding_dim,\n",
    "                            embeddings_initializer=Constant(embedding_matrix),\n",
    "                            input_length=claim_size,\n",
    "                            trainable=False)"
   ]
  },
  {
   "cell_type": "code",
   "execution_count": 37,
   "metadata": {},
   "outputs": [
    {
     "name": "stdout",
     "output_type": "stream",
     "text": [
      "input body (?, 9, 15)\n",
      "input claim (?, 15)\n",
      "input p_tfidf (?, 9)\n"
     ]
    }
   ],
   "source": [
    "# initialize input placeholders and embed pre-trained word vectors\n",
    "input_body = Input(shape=(n_pars, par_size,), dtype='int32', name='docs')\n",
    "input_claim = Input(shape=(claim_size,), dtype='int32', name='claims')\n",
    "input_p_tfidf = Input(shape=(n_pars,), dtype='float32', name='tfidf')\n",
    "\n",
    "print('input body', input_body.shape)     # (?, 9, 15)\n",
    "print('input claim', input_claim.shape)    # (?, 15)\n",
    "print('input p_tfidf', input_p_tfidf.shape)  # (?, 9)"
   ]
  },
  {
   "cell_type": "code",
   "execution_count": 38,
   "metadata": {},
   "outputs": [
    {
     "name": "stdout",
     "output_type": "stream",
     "text": [
      "embedded body (?, 9, 15, 100)\n",
      "embedded claim (?, 15, 100)\n"
     ]
    }
   ],
   "source": [
    "embedded_body = embedding_body(input_body)\n",
    "embedded_claim = embedding_claim(input_claim)\n",
    "\n",
    "print('embedded body', embedded_body.shape)   # (?, 9, 15, 25)\n",
    "print('embedded claim', embedded_claim.shape)  # (?, 15, 25)"
   ]
  },
  {
   "cell_type": "markdown",
   "metadata": {},
   "source": [
    "# CNNs"
   ]
  },
  {
   "cell_type": "markdown",
   "metadata": {},
   "source": [
    "## Paragraphs"
   ]
  },
  {
   "cell_type": "code",
   "execution_count": 39,
   "metadata": {},
   "outputs": [],
   "source": [
    "# train two 1D convnets (should be time distributed with maxout layer)\n",
    "cnn_body = TimeDistributed(Conv1D(100, 5, padding='valid', activation='relu'), name='CNN_docs')(embedded_body)\n",
    "cnn_body = Lambda(lambda x: K.max(x, axis=-1, keepdims=False), name='CNN_maxout_docs')(cnn_body)  # maxout\n",
    "#cnn_body = Lambda(lambda x: tf.contrib.layers.maxout(x, num_units=1))(cnn_body) ## does not work for some reason"
   ]
  },
  {
   "cell_type": "markdown",
   "metadata": {},
   "source": [
    "## Claims"
   ]
  },
  {
   "cell_type": "code",
   "execution_count": 40,
   "metadata": {},
   "outputs": [],
   "source": [
    "cnn_claim = Conv1D(100, 5, padding='valid', activation='relu', name='CNN_claims')(embedded_claim)\n",
    "cnn_claim = Lambda(lambda x: K.max(x, axis=-1, keepdims=False), name='CNN_maxout_claims')(cnn_claim)  # maxout\n",
    "#cnn_claim = Lambda(lambda x: tf.contrib.layers.maxout(x, num_units=1))(cnn_claim) ## does not work"
   ]
  },
  {
   "cell_type": "markdown",
   "metadata": {},
   "source": [
    "For Maxout, we take the maximum value of the 100 values in the vector extracted by the CNN"
   ]
  },
  {
   "cell_type": "code",
   "execution_count": 41,
   "metadata": {},
   "outputs": [
    {
     "name": "stdout",
     "output_type": "stream",
     "text": [
      "cnn_body shape (?, 9, 11)\n",
      "cnn_claim shape (?, 11)\n"
     ]
    }
   ],
   "source": [
    "# maxout eliminates the last dimension from the cnn representations:\n",
    "# converts cnn_body with shape (?, 9, 11, 100) to (?, 9, 11)\n",
    "# and cnn_claim with shape (?, 11, 100) to (?, 11)\n",
    "print('cnn_body shape', cnn_body.shape)  # (?, 9, 11)\n",
    "print('cnn_claim shape', cnn_claim.shape)  # (?, 11)"
   ]
  },
  {
   "cell_type": "markdown",
   "metadata": {},
   "source": [
    "# LSTMs\n",
    "\n",
    "- TimeDistributed for documents\n",
    "- simple for claims"
   ]
  },
  {
   "cell_type": "code",
   "execution_count": 42,
   "metadata": {},
   "outputs": [
    {
     "name": "stdout",
     "output_type": "stream",
     "text": [
      "lstm body (?, 9, 100)\n",
      "lstm claim (?, 100)\n"
     ]
    }
   ],
   "source": [
    "# train two lstms\n",
    "lstm_body = TimeDistributed(LSTM(100), name=\"LSTM_docs\")(embedded_body)\n",
    "lstm_claim = (LSTM(100, name=\"LSTM_claims\"))(embedded_claim)\n",
    "\n",
    "print('lstm body', lstm_body.shape) # (?, 9, 100)\n",
    "print('lstm claim', lstm_claim.shape) # (?, 100)"
   ]
  },
  {
   "cell_type": "code",
   "execution_count": 43,
   "metadata": {},
   "outputs": [
    {
     "name": "stdout",
     "output_type": "stream",
     "text": [
      "lstm_body * p_tfidf (?, 9, 100)\n"
     ]
    }
   ],
   "source": [
    "# reshape tfidf sim matrix layer from (?, 9) into (?, 9, 1)\n",
    "reshaped_p_tfidf = Reshape((n_pars, 1), name=\"reshape_tfidf\")(input_p_tfidf)\n",
    "lstm_body = multiply([lstm_body, reshaped_p_tfidf], name=\"\")\n",
    "### tensor shapes: (samples, n_pars, 100) * (samples, n_pars, 1) => (?, 9, 100)\n",
    "print('lstm_body * p_tfidf', lstm_body.shape)  # (?, 9, 100)"
   ]
  },
  {
   "cell_type": "markdown",
   "metadata": {},
   "source": [
    "# P_lstm"
   ]
  },
  {
   "cell_type": "code",
   "execution_count": 44,
   "metadata": {},
   "outputs": [
    {
     "name": "stdout",
     "output_type": "stream",
     "text": [
      "p_lstm (?, 9)\n"
     ]
    }
   ],
   "source": [
    "## p_lstm = lstm_claim.T x M x lstm_body[j] \n",
    "## if normalize=True, then the output of the dot product is the cosine similarity between the two samples\n",
    "p_lstm = dot([lstm_body, lstm_claim], axes=(2, 1), normalize=True, name=\"P_lstm\")\n",
    "print('p_lstm', p_lstm.shape)  # (samples, 9)"
   ]
  },
  {
   "cell_type": "code",
   "execution_count": 45,
   "metadata": {},
   "outputs": [],
   "source": [
    "### cnn_body = cnn_body * p_lstm\n",
    "# reshape sim matrix layer from (?, 9) into (?, 9, 1)\n",
    "p_lstm = Reshape((n_pars, 1), name=\"P_lstm_reshape\")(p_lstm)"
   ]
  },
  {
   "cell_type": "code",
   "execution_count": 46,
   "metadata": {},
   "outputs": [
    {
     "name": "stdout",
     "output_type": "stream",
     "text": [
      "p_lstm (?, 9, 1)\n"
     ]
    }
   ],
   "source": [
    "print('p_lstm', p_lstm.shape)  # (samples, 9)"
   ]
  },
  {
   "cell_type": "markdown",
   "metadata": {},
   "source": [
    "# P_cnn"
   ]
  },
  {
   "cell_type": "code",
   "execution_count": 47,
   "metadata": {},
   "outputs": [
    {
     "name": "stdout",
     "output_type": "stream",
     "text": [
      "cnn_body * p_lstm (?, 9, 11)\n",
      "cnn_claim (?, 11)\n"
     ]
    }
   ],
   "source": [
    "cnn_body = multiply([cnn_body, p_lstm])\n",
    "print('cnn_body * p_lstm', cnn_body.shape) # (?, 9, 11)\n",
    "print('cnn_claim', cnn_claim.shape)        # (?, 11)"
   ]
  },
  {
   "cell_type": "code",
   "execution_count": 48,
   "metadata": {},
   "outputs": [
    {
     "name": "stdout",
     "output_type": "stream",
     "text": [
      "p_cnn (?, 9)\n"
     ]
    }
   ],
   "source": [
    "## p_cnn = cnn_claim.T x M' x cnn_body[j] \n",
    "## if normalize=True, then the output of the dot product is the cosine similarity between the two samples\n",
    "p_cnn = dot([cnn_body, cnn_claim], axes=(2, 1), normalize=True, name=\"P_cnn\")\n",
    "print('p_cnn', p_cnn.shape)  # (?, 9)"
   ]
  },
  {
   "cell_type": "code",
   "execution_count": 49,
   "metadata": {},
   "outputs": [
    {
     "name": "stdout",
     "output_type": "stream",
     "text": [
      "mean cnn body (?, 9)\n"
     ]
    }
   ],
   "source": [
    "## o = [mean(cnn_body); [max(p_cnn); mean(p_cnn)]; [max(p_lstm); mean(p_lstm)]; [max(p_tfidf); mean(p_tfidf)]]\n",
    "mean_cnn_body = Lambda(lambda x: K.mean(x, axis=2), name=\"mean_cnn_body\")(cnn_body)\n",
    "print('mean cnn body', mean_cnn_body.shape)  # (?, 9)"
   ]
  },
  {
   "cell_type": "markdown",
   "metadata": {},
   "source": [
    "# O"
   ]
  },
  {
   "cell_type": "code",
   "execution_count": 50,
   "metadata": {},
   "outputs": [],
   "source": [
    "# taking mean and max similarities\n",
    "max_p_cnn = Lambda(lambda x: K.max(x, axis=1), name=\"max_p_cnn\")(p_cnn)\n",
    "mean_p_cnn = Lambda(lambda x: K.mean(x, axis=1), name=\"mean_p_cnn\")(p_cnn)\n",
    "max_p_lstm = Lambda(lambda x: K.max(x, axis=1), name=\"max_p_lstm\")(p_lstm)\n",
    "mean_p_lstm = Lambda(lambda x: K.mean(x, axis=1), name=\"mean_p_lstm\")(p_lstm)\n",
    "max_p_tfidf = Lambda(lambda x: K.max(x, axis=1), name=\"max_p_tfidf\")(reshaped_p_tfidf)\n",
    "mean_p_tfidf = Lambda(lambda x: K.mean(x, axis=1), name=\"mean_p_tfidf\")(reshaped_p_tfidf)"
   ]
  },
  {
   "cell_type": "code",
   "execution_count": 51,
   "metadata": {},
   "outputs": [],
   "source": [
    "# reshape some layers to make their dimensions compatible\n",
    "max_p_cnn = Reshape((1,), name=\"max_p_cnn_reshape\")(max_p_cnn)\n",
    "mean_p_cnn = Reshape((1,), name=\"mean_p_cnn_reshape\")(mean_p_cnn)"
   ]
  },
  {
   "cell_type": "code",
   "execution_count": 52,
   "metadata": {},
   "outputs": [
    {
     "name": "stdout",
     "output_type": "stream",
     "text": [
      "output (?, 15)\n"
     ]
    }
   ],
   "source": [
    "output = concatenate([mean_cnn_body,\n",
    "                      max_p_cnn, mean_p_cnn,\n",
    "                      max_p_lstm, mean_p_lstm,\n",
    "                      max_p_tfidf, mean_p_tfidf],\n",
    "                      name=\"O_concatenate\")\n",
    "\n",
    "print('output', output.shape)  # (?, 15)"
   ]
  },
  {
   "cell_type": "code",
   "execution_count": 53,
   "metadata": {},
   "outputs": [
    {
     "name": "stdout",
     "output_type": "stream",
     "text": [
      "response layer: (?, 126)\n"
     ]
    }
   ],
   "source": [
    "response = concatenate([output, lstm_claim, cnn_claim], name=\"input_for_dense_R\")\n",
    "print('response layer:', response.shape)   # (?, 126)"
   ]
  },
  {
   "cell_type": "code",
   "execution_count": 54,
   "metadata": {},
   "outputs": [],
   "source": [
    "# home stretch\n",
    "stance = Dense(300, activation='relu', name=\"dense\")(response)\n",
    "stance = Dropout(0.7)(stance)\n",
    "preds = Dense(output_size, activation='softmax')(stance)"
   ]
  },
  {
   "cell_type": "code",
   "execution_count": 55,
   "metadata": {},
   "outputs": [],
   "source": [
    "# build the model\n",
    "model = Model([input_body, input_claim, input_p_tfidf], preds)\n",
    "model.compile(optimizer=keras.optimizers.adam(),\n",
    "              loss='sparse_categorical_crossentropy',\n",
    "              metrics=['accuracy'])"
   ]
  },
  {
   "cell_type": "markdown",
   "metadata": {},
   "source": [
    "# Diagram of model"
   ]
  },
  {
   "cell_type": "code",
   "execution_count": 56,
   "metadata": {},
   "outputs": [],
   "source": [
    "# uncomment the line below to plot the model diagram (requires graphviz)\n",
    "# keras.utils.plot_model(model, to_file='model.png', show_shapes=True)"
   ]
  },
  {
   "cell_type": "markdown",
   "metadata": {},
   "source": [
    "# Train"
   ]
  },
  {
   "cell_type": "code",
   "execution_count": 57,
   "metadata": {},
   "outputs": [],
   "source": [
    "filepath=\"model.hdf5\"\n",
    "checkpoint = ModelCheckpoint(filepath, monitor='val_acc', verbose=1, save_best_only=True, mode='max')"
   ]
  },
  {
   "cell_type": "code",
   "execution_count": 59,
   "metadata": {},
   "outputs": [
    {
     "name": "stdout",
     "output_type": "stream",
     "text": [
      "Train on 116848 samples, validate on 9995 samples\n",
      "Epoch 1/15\n",
      " - 293s - loss: 0.5644 - acc: 0.7812 - val_loss: 0.2366 - val_acc: 0.9184\n",
      "\n",
      "Epoch 00001: val_acc improved from -inf to 0.91836, saving model to model.hdf5\n",
      "Epoch 2/15\n",
      " - 296s - loss: 0.1461 - acc: 0.9534 - val_loss: 0.1949 - val_acc: 0.9439\n",
      "\n",
      "Epoch 00002: val_acc improved from 0.91836 to 0.94387, saving model to model.hdf5\n",
      "Epoch 3/15\n",
      " - 300s - loss: 0.0672 - acc: 0.9790 - val_loss: 0.2010 - val_acc: 0.9467\n",
      "\n",
      "Epoch 00003: val_acc improved from 0.94387 to 0.94667, saving model to model.hdf5\n",
      "Epoch 4/15\n",
      " - 299s - loss: 0.0446 - acc: 0.9859 - val_loss: 0.2099 - val_acc: 0.9520\n",
      "\n",
      "Epoch 00004: val_acc improved from 0.94667 to 0.95198, saving model to model.hdf5\n",
      "Epoch 5/15\n",
      " - 301s - loss: 0.0353 - acc: 0.9885 - val_loss: 0.2006 - val_acc: 0.9569\n",
      "\n",
      "Epoch 00005: val_acc improved from 0.95198 to 0.95688, saving model to model.hdf5\n",
      "Epoch 6/15\n",
      " - 302s - loss: 0.0308 - acc: 0.9906 - val_loss: 0.1973 - val_acc: 0.9578\n",
      "\n",
      "Epoch 00006: val_acc improved from 0.95688 to 0.95778, saving model to model.hdf5\n",
      "Epoch 7/15\n",
      " - 299s - loss: 0.0266 - acc: 0.9915 - val_loss: 0.2210 - val_acc: 0.9569\n",
      "\n",
      "Epoch 00007: val_acc did not improve from 0.95778\n",
      "Epoch 8/15\n",
      " - 301s - loss: 0.0238 - acc: 0.9926 - val_loss: 0.2185 - val_acc: 0.9560\n",
      "\n",
      "Epoch 00008: val_acc did not improve from 0.95778\n",
      "Epoch 9/15\n",
      " - 303s - loss: 0.0238 - acc: 0.9925 - val_loss: 0.2040 - val_acc: 0.9603\n",
      "\n",
      "Epoch 00009: val_acc improved from 0.95778 to 0.96028, saving model to model.hdf5\n",
      "Epoch 10/15\n",
      " - 302s - loss: 0.0184 - acc: 0.9942 - val_loss: 0.2367 - val_acc: 0.9533\n",
      "\n",
      "Epoch 00010: val_acc did not improve from 0.96028\n",
      "Epoch 11/15\n",
      " - 302s - loss: 0.0175 - acc: 0.9943 - val_loss: 0.2295 - val_acc: 0.9602\n",
      "\n",
      "Epoch 00011: val_acc did not improve from 0.96028\n",
      "Epoch 12/15\n",
      " - 300s - loss: 0.0174 - acc: 0.9944 - val_loss: 0.2343 - val_acc: 0.9589\n",
      "\n",
      "Epoch 00012: val_acc did not improve from 0.96028\n",
      "Epoch 13/15\n",
      " - 299s - loss: 0.0178 - acc: 0.9942 - val_loss: 0.2363 - val_acc: 0.9615\n",
      "\n",
      "Epoch 00013: val_acc improved from 0.96028 to 0.96148, saving model to model.hdf5\n",
      "Epoch 14/15\n",
      " - 300s - loss: 0.0165 - acc: 0.9950 - val_loss: 0.2177 - val_acc: 0.9620\n",
      "\n",
      "Epoch 00014: val_acc improved from 0.96148 to 0.96198, saving model to model.hdf5\n",
      "Epoch 15/15\n",
      " - 584s - loss: 0.0144 - acc: 0.9952 - val_loss: 0.2270 - val_acc: 0.9639\n",
      "\n",
      "Epoch 00015: val_acc improved from 0.96198 to 0.96388, saving model to model.hdf5\n"
     ]
    }
   ],
   "source": [
    "# train\n",
    "history = model.fit(\n",
    "    [train_body, train_claim, train_p_tfidf], train_labels,\n",
    "    batch_size=batch_size,\n",
    "    epochs=epochs,\n",
    "    validation_data=([val_body, val_claim, val_p_tfidf], val_labels),\n",
    "    callbacks=[checkpoint],\n",
    "    verbose=2\n",
    "         )"
   ]
  },
  {
   "cell_type": "code",
   "execution_count": 60,
   "metadata": {},
   "outputs": [
    {
     "data": {
      "text/plain": [
       "((25413, 15), (25413,))"
      ]
     },
     "execution_count": 60,
     "metadata": {},
     "output_type": "execute_result"
    }
   ],
   "source": [
    "test_claim.shape, y_test.shape"
   ]
  },
  {
   "cell_type": "code",
   "execution_count": 61,
   "metadata": {},
   "outputs": [],
   "source": [
    "model.load_weights(filepath)"
   ]
  },
  {
   "cell_type": "code",
   "execution_count": 62,
   "metadata": {},
   "outputs": [],
   "source": [
    "preds = model.predict([test_body, test_claim, test_p_tfidf])"
   ]
  },
  {
   "cell_type": "code",
   "execution_count": 63,
   "metadata": {},
   "outputs": [],
   "source": [
    "preds = np.argmax(preds, axis=1)"
   ]
  },
  {
   "cell_type": "markdown",
   "metadata": {},
   "source": [
    "# Metrics"
   ]
  },
  {
   "cell_type": "code",
   "execution_count": 64,
   "metadata": {},
   "outputs": [
    {
     "data": {
      "text/plain": [
       "0.5019925165346772"
      ]
     },
     "execution_count": 64,
     "metadata": {},
     "output_type": "execute_result"
    }
   ],
   "source": [
    "f1_score(y_test, preds, average='macro')"
   ]
  },
  {
   "cell_type": "code",
   "execution_count": 65,
   "metadata": {},
   "outputs": [
    {
     "data": {
      "text/plain": [
       "(array([0.94133434, 0.61709534, 0.43132888, 0.0719697 ]),\n",
       " array([0.95580141, 0.71482975, 0.30530741, 0.02725968]),\n",
       " array([0.94851271, 0.66237675, 0.35753846, 0.03954214]),\n",
       " array([18349,  4464,  1903,   697], dtype=int64))"
      ]
     },
     "execution_count": 65,
     "metadata": {},
     "output_type": "execute_result"
    }
   ],
   "source": [
    "precision_recall_fscore_support(y_test, preds, average=None)"
   ]
  },
  {
   "cell_type": "code",
   "execution_count": 66,
   "metadata": {},
   "outputs": [
    {
     "data": {
      "text/plain": [
       "(0.5154320626501296, 0.5007995622225799, 0.5019925165346772, None)"
      ]
     },
     "execution_count": 66,
     "metadata": {},
     "output_type": "execute_result"
    }
   ],
   "source": [
    "precision_recall_fscore_support(y_test, preds, average='macro')"
   ]
  },
  {
   "cell_type": "code",
   "execution_count": 67,
   "metadata": {},
   "outputs": [],
   "source": [
    "score = model.evaluate([test_body, test_claim, test_p_tfidf], y_test, batch_size=batch_size, verbose=2)"
   ]
  },
  {
   "cell_type": "markdown",
   "metadata": {},
   "source": [
    "# Confusion matrix"
   ]
  },
  {
   "cell_type": "code",
   "execution_count": 68,
   "metadata": {},
   "outputs": [
    {
     "name": "stdout",
     "output_type": "stream",
     "text": [
      "Test loss: 1.3407743071053717\n",
      "Test accuracy: 0.839294849111161\n"
     ]
    }
   ],
   "source": [
    "print('Test loss:', score[0])\n",
    "print('Test accuracy:', score[1])"
   ]
  },
  {
   "cell_type": "code",
   "execution_count": 69,
   "metadata": {},
   "outputs": [
    {
     "name": "stdout",
     "output_type": "stream",
     "text": [
      "Normalized confusion matrix\n"
     ]
    },
    {
     "data": {
      "image/png": "[encoded data removed]",
      "text/plain": [
       "<Figure size 432x288 with 2 Axes>"
      ]
     },
     "metadata": {},
     "output_type": "display_data"
    }
   ],
   "source": [
    "cnf_matrix = confusion_matrix(y_test, preds)\n",
    "fig = plot_confusion_matrix(cnf_matrix, ['Unrelated','Discuss','Agree','Disagree'], normalize=True)"
   ]
  },
  {
   "cell_type": "markdown",
   "metadata": {},
   "source": [
    "# Balancing the results"
   ]
  },
  {
   "cell_type": "code",
   "execution_count": 70,
   "metadata": {},
   "outputs": [
    {
     "data": {
      "text/plain": [
       "0.7484604656152773"
      ]
     },
     "execution_count": 70,
     "metadata": {},
     "output_type": "execute_result"
    }
   ],
   "source": [
    "compute_weighted_accuracy(y_test, preds)"
   ]
  },
  {
   "cell_type": "markdown",
   "metadata": {},
   "source": [
    "# Plot training"
   ]
  },
  {
   "cell_type": "code",
   "execution_count": 71,
   "metadata": {},
   "outputs": [
    {
     "data": {
      "image/png": "[encoded data removed]",
      "text/plain": [
       "<Figure size 432x288 with 1 Axes>"
      ]
     },
     "metadata": {},
     "output_type": "display_data"
    },
    {
     "data": {
      "image/png": "[encoded data removed]",
      "text/plain": [
       "<Figure size 432x288 with 1 Axes>"
      ]
     },
     "metadata": {},
     "output_type": "display_data"
    }
   ],
   "source": [
    "# Plot training & validation accuracy values\n",
    "plt.plot(history.history['acc'])\n",
    "plt.plot(history.history['val_acc'])\n",
    "plt.title('Model accuracy')\n",
    "plt.ylabel('Accuracy')\n",
    "plt.xlabel('Epoch')\n",
    "plt.legend(['Train', 'Val'], loc='upper left')\n",
    "plt.show()\n",
    "\n",
    "# Plot training & validation loss values\n",
    "plt.plot(history.history['loss'])\n",
    "plt.plot(history.history['val_loss'])\n",
    "plt.title('Model loss')\n",
    "plt.ylabel('Loss')\n",
    "plt.xlabel('Epoch')\n",
    "plt.legend(['Train', 'Val'], loc='upper left')\n",
    "plt.show()"
   ]
  },
  {
   "cell_type": "markdown",
   "metadata": {},
   "source": [
    "# Exploring model layers"
   ]
  },
  {
   "cell_type": "code",
   "execution_count": 72,
   "metadata": {},
   "outputs": [],
   "source": [
    "index2word = {index:word for word,index in word2index.items()}"
   ]
  },
  {
   "cell_type": "code",
   "execution_count": 73,
   "metadata": {},
   "outputs": [],
   "source": [
    "index2word[0] = ''"
   ]
  },
  {
   "cell_type": "code",
   "execution_count": 75,
   "metadata": {},
   "outputs": [],
   "source": [
    "import tqdm\n",
    "import pandas as pd"
   ]
  },
  {
   "cell_type": "code",
   "execution_count": 76,
   "metadata": {},
   "outputs": [],
   "source": [
    "import pdb"
   ]
  },
  {
   "cell_type": "code",
   "execution_count": 77,
   "metadata": {},
   "outputs": [],
   "source": [
    "test_data = [test_body, test_claim, test_p_tfidf]\n",
    "predicted_all = model.predict(test_data)"
   ]
  },
  {
   "cell_type": "code",
   "execution_count": 78,
   "metadata": {},
   "outputs": [
    {
     "name": "stderr",
     "output_type": "stream",
     "text": [
      "100%|████████████████████████████████████████████████████████████████████████████| 25413/25413 [06:39<00:00, 63.62it/s]\n"
     ]
    }
   ],
   "source": [
    "examples = []\n",
    "\n",
    "\n",
    "for NR_ENTRY in tqdm.tqdm(range(len(test_body))):\n",
    "    \n",
    "    predicted = np.argmax(predicted_all[NR_ENTRY])\n",
    "    \n",
    "    stances = {\n",
    "        2: 'agree',\n",
    "        3: 'disagree'\n",
    "    }\n",
    "    \n",
    "    \n",
    "    \n",
    "    if (test_labels[NR_ENTRY] == 3 or test_labels[NR_ENTRY] == 2) and test_labels[NR_ENTRY] == predicted:\n",
    "        one_input = [[test_body[NR_ENTRY]], [test_claim[NR_ENTRY]], [test_p_tfidf[NR_ENTRY]]]\n",
    "        p_cnn_layer_model = Model(inputs=model.input,\n",
    "                                         outputs=model.get_layer('P_cnn').output)\n",
    "\n",
    "        p_cnn_pred = p_cnn_layer_model.predict(one_input)\n",
    "\n",
    "        most_sim_paragraph_index = p_cnn_pred.argmax()\n",
    "\n",
    "        most_sim_paragraph = [index2word[w] for w in one_input[0][0][most_sim_paragraph_index]]\n",
    "\n",
    "        claim = ' '.join([str(index2word[w]) if w!=0 else '' for w in one_input[1][0]])\n",
    "\n",
    "        cnn_maxout_layer_model = Model(inputs=model.input,\n",
    "                                         outputs=model.get_layer('CNN_maxout_docs').output)\n",
    "\n",
    "        cnn_maxout_pred = cnn_maxout_layer_model.predict(one_input)\n",
    "\n",
    "        ngramindex = cnn_maxout_pred[0][most_sim_paragraph_index].argmax()\n",
    "        #     df.loc[df['Stance'] == 'agree', 'Stance'] = 2\n",
    "        #     df.loc[df['Stance'] == 'disagree', 'Stance'] = 3\n",
    "        most_sim_ngram = ' '.join(most_sim_paragraph[ngramindex:ngramindex+5])\n",
    "        most_sim_para = ' '.join(most_sim_paragraph)\n",
    "\n",
    "        predicted_text = stances[predicted]\n",
    "        actual_text = stances[test_labels[NR_ENTRY]]\n",
    "        #         pdb.set_trace()\n",
    "        examples.append([NR_ENTRY, claim, most_sim_ngram, most_sim_para, predicted_text, actual_text])"
   ]
  },
  {
   "cell_type": "code",
   "execution_count": 133,
   "metadata": {},
   "outputs": [],
   "source": [
    "df = pd.DataFrame(examples, columns=['claim nr', 'claim', 'most sim ngram', 'most sim paragraph', 'predicted stance', 'actual stance'])"
   ]
  },
  {
   "cell_type": "code",
   "execution_count": 80,
   "metadata": {},
   "outputs": [],
   "source": [
    "df.to_csv(\"examples.csv\")"
   ]
  },
  {
   "cell_type": "code",
   "execution_count": 135,
   "metadata": {},
   "outputs": [
    {
     "data": {
      "text/html": [
       "<div>\n",
       "<style scoped>\n",
       "    .dataframe tbody tr th:only-of-type {\n",
       "        vertical-align: middle;\n",
       "    }\n",
       "\n",
       "    .dataframe tbody tr th {\n",
       "        vertical-align: top;\n",
       "    }\n",
       "\n",
       "    .dataframe thead th {\n",
       "        text-align: right;\n",
       "    }\n",
       "</style>\n",
       "<table border=\"1\" class=\"dataframe\">\n",
       "  <thead>\n",
       "    <tr style=\"text-align: right;\">\n",
       "      <th></th>\n",
       "      <th>claim nr</th>\n",
       "      <th>claim</th>\n",
       "      <th>most sim ngram</th>\n",
       "      <th>most sim paragraph</th>\n",
       "      <th>predicted stance</th>\n",
       "      <th>actual stance</th>\n",
       "    </tr>\n",
       "  </thead>\n",
       "  <tbody>\n",
       "    <tr>\n",
       "      <th>578</th>\n",
       "      <td>25239</td>\n",
       "      <td>everyone was wrong &lt;unknown&gt; fat can be good for you</td>\n",
       "      <td>fat and whether it is</td>\n",
       "      <td>this article takes a detailed look at &lt;unknown&gt; fat and whether it is good or</td>\n",
       "      <td>agree</td>\n",
       "      <td>agree</td>\n",
       "    </tr>\n",
       "    <tr>\n",
       "      <th>579</th>\n",
       "      <td>25253</td>\n",
       "      <td>high intensity training does more harm than good raising the risk of cancer and heart</td>\n",
       "      <td>form of exercise the &lt;unknown&gt;</td>\n",
       "      <td>but if a person isnt accustomed to this form of exercise the &lt;unknown&gt; could be</td>\n",
       "      <td>agree</td>\n",
       "      <td>agree</td>\n",
       "    </tr>\n",
       "    <tr>\n",
       "      <th>580</th>\n",
       "      <td>25266</td>\n",
       "      <td>scoop trump tells &lt;unknown&gt; us will quit paris climate deal</td>\n",
       "      <td>to air on cbs sunday</td>\n",
       "      <td>speaking of uncertainty in a face the nation interview set to air on cbs sunday</td>\n",
       "      <td>agree</td>\n",
       "      <td>agree</td>\n",
       "    </tr>\n",
       "    <tr>\n",
       "      <th>581</th>\n",
       "      <td>25267</td>\n",
       "      <td>scoop trump tells &lt;unknown&gt; us will quit paris climate deal</td>\n",
       "      <td>announce he is pulling the</td>\n",
       "      <td>trump could announce he is pulling the us from the deal which would trigger a</td>\n",
       "      <td>agree</td>\n",
       "      <td>agree</td>\n",
       "    </tr>\n",
       "    <tr>\n",
       "      <th>582</th>\n",
       "      <td>25269</td>\n",
       "      <td>scoop trump tells &lt;unknown&gt; us will quit paris climate deal</td>\n",
       "      <td>'s &lt;unknown&gt; venting and &lt;unknown&gt;</td>\n",
       "      <td>the clean power plan the bureau of land management 's &lt;unknown&gt; venting and &lt;unknown&gt; regulation</td>\n",
       "      <td>agree</td>\n",
       "      <td>agree</td>\n",
       "    </tr>\n",
       "    <tr>\n",
       "      <th>583</th>\n",
       "      <td>25272</td>\n",
       "      <td>for president trump pulling out of paris is the only logical move</td>\n",
       "      <td>to air on cbs sunday</td>\n",
       "      <td>speaking of uncertainty in a face the nation interview set to air on cbs sunday</td>\n",
       "      <td>agree</td>\n",
       "      <td>agree</td>\n",
       "    </tr>\n",
       "    <tr>\n",
       "      <th>584</th>\n",
       "      <td>25289</td>\n",
       "      <td>donald trump walks back campaign pledges on another issue climate change</td>\n",
       "      <td>degrees &lt;unknown&gt; or &lt;number&gt; degrees</td>\n",
       "      <td>it also contains an even more stringent target of &lt;number&gt; degrees &lt;unknown&gt; or &lt;number&gt; degrees</td>\n",
       "      <td>agree</td>\n",
       "      <td>agree</td>\n",
       "    </tr>\n",
       "    <tr>\n",
       "      <th>585</th>\n",
       "      <td>25303</td>\n",
       "      <td>fake news wapo made-up &lt;unknown&gt; request for permanent back channel communication with russia</td>\n",
       "      <td>way to &lt;unknown&gt; &lt;unknown&gt; discussions</td>\n",
       "      <td>&lt;unknown&gt; suggested the use of russian diplomatic facilities as a way to &lt;unknown&gt; &lt;unknown&gt; dis...</td>\n",
       "      <td>agree</td>\n",
       "      <td>agree</td>\n",
       "    </tr>\n",
       "    <tr>\n",
       "      <th>588</th>\n",
       "      <td>25336</td>\n",
       "      <td>&lt;number&gt; &lt;unknown&gt; studies proving gmos can be &lt;unknown&gt; to human health</td>\n",
       "      <td>ever tells you that we</td>\n",
       "      <td>if anybody ever tells you that we know with one hundred percent certainty that gmos</td>\n",
       "      <td>agree</td>\n",
       "      <td>agree</td>\n",
       "    </tr>\n",
       "    <tr>\n",
       "      <th>589</th>\n",
       "      <td>25340</td>\n",
       "      <td>&lt;number&gt; studies proving gmos are &lt;unknown&gt; not if science matters</td>\n",
       "      <td>presented just a bit of</td>\n",
       "      <td>below ive presented just a bit of information to get you started on your research</td>\n",
       "      <td>disagree</td>\n",
       "      <td>disagree</td>\n",
       "    </tr>\n",
       "    <tr>\n",
       "      <th>590</th>\n",
       "      <td>25349</td>\n",
       "      <td>&lt;unknown&gt; staffer seth rich did not send thousands of e-mails to &lt;unknown&gt; before he was</td>\n",
       "      <td>begging right-wing news outlets to</td>\n",
       "      <td>&lt;unknown&gt; family has been begging right-wing news outlets to stop spreading unfounded rumors abo...</td>\n",
       "      <td>agree</td>\n",
       "      <td>agree</td>\n",
       "    </tr>\n",
       "    <tr>\n",
       "      <th>591</th>\n",
       "      <td>25357</td>\n",
       "      <td>the bonkers seth rich conspiracy theory explained</td>\n",
       "      <td>senseless act of violence seth</td>\n",
       "      <td>seth rich was murdered in a senseless act of violence seth rich worked in democratic</td>\n",
       "      <td>agree</td>\n",
       "      <td>agree</td>\n",
       "    </tr>\n",
       "    <tr>\n",
       "      <th>592</th>\n",
       "      <td>25359</td>\n",
       "      <td>climate change is not a hoax ask any &lt;unknown&gt; seeing it firsthand</td>\n",
       "      <td>records going back to the</td>\n",
       "      <td>in addition to &lt;unknown&gt; records going back to the &lt;unknown&gt; there is a large amount</td>\n",
       "      <td>agree</td>\n",
       "      <td>agree</td>\n",
       "    </tr>\n",
       "    <tr>\n",
       "      <th>593</th>\n",
       "      <td>25364</td>\n",
       "      <td>is climate change real and is the world actually getting &lt;unknown&gt;</td>\n",
       "      <td>claimed the lives of numerous</td>\n",
       "      <td>ironically the famously &lt;unknown&gt; northwest passage which claimed the lives of numerous &lt;unknown...</td>\n",
       "      <td>agree</td>\n",
       "      <td>agree</td>\n",
       "    </tr>\n",
       "    <tr>\n",
       "      <th>594</th>\n",
       "      <td>25370</td>\n",
       "      <td>&lt;number&gt; things you need to know about the climate change hoax</td>\n",
       "      <td>&lt;unknown&gt; scandal chris horner of</td>\n",
       "      <td>since this occurred at around the same time as the &lt;unknown&gt; scandal chris horner of</td>\n",
       "      <td>agree</td>\n",
       "      <td>agree</td>\n",
       "    </tr>\n",
       "    <tr>\n",
       "      <th>595</th>\n",
       "      <td>25372</td>\n",
       "      <td>&lt;number&gt; things you need to know about the climate change hoax</td>\n",
       "      <td>last year climate change business</td>\n",
       "      <td>last year climate change business journal calculated that the total annual spend on the climate</td>\n",
       "      <td>agree</td>\n",
       "      <td>agree</td>\n",
       "    </tr>\n",
       "    <tr>\n",
       "      <th>596</th>\n",
       "      <td>25376</td>\n",
       "      <td>the fingerprint of global &lt;unknown&gt; doesnt exist in the real world study finds</td>\n",
       "      <td>&lt;unknown&gt; released its &lt;unknown&gt; &lt;unknown&gt;</td>\n",
       "      <td>when &lt;unknown&gt; released its &lt;unknown&gt; &lt;unknown&gt; finding in &lt;number&gt; it used three lines of evidence</td>\n",
       "      <td>agree</td>\n",
       "      <td>agree</td>\n",
       "    </tr>\n",
       "    <tr>\n",
       "      <th>597</th>\n",
       "      <td>25381</td>\n",
       "      <td>climate change the hoax that costs us &lt;number&gt; billion a day</td>\n",
       "      <td>observations from &lt;unknown&gt; weather &lt;unknown&gt;</td>\n",
       "      <td>researchers analyzed temperature observations from &lt;unknown&gt; weather &lt;unknown&gt; weather stations ...</td>\n",
       "      <td>agree</td>\n",
       "      <td>agree</td>\n",
       "    </tr>\n",
       "    <tr>\n",
       "      <th>598</th>\n",
       "      <td>25382</td>\n",
       "      <td>climate change the hoax that costs us &lt;number&gt; billion a day</td>\n",
       "      <td>last year climate change business</td>\n",
       "      <td>last year climate change business journal calculated that the total annual spend on the climate</td>\n",
       "      <td>agree</td>\n",
       "      <td>agree</td>\n",
       "    </tr>\n",
       "    <tr>\n",
       "      <th>599</th>\n",
       "      <td>25401</td>\n",
       "      <td>why &lt;unknown&gt; failed</td>\n",
       "      <td>first glance its hard to</td>\n",
       "      <td>at first glance its hard to see why this piece of news is worth worrying</td>\n",
       "      <td>agree</td>\n",
       "      <td>agree</td>\n",
       "    </tr>\n",
       "  </tbody>\n",
       "</table>\n",
       "</div>"
      ],
      "text/plain": [
       "     claim nr  \\\n",
       "578     25239   \n",
       "579     25253   \n",
       "580     25266   \n",
       "581     25267   \n",
       "582     25269   \n",
       "583     25272   \n",
       "584     25289   \n",
       "585     25303   \n",
       "588     25336   \n",
       "589     25340   \n",
       "590     25349   \n",
       "591     25357   \n",
       "592     25359   \n",
       "593     25364   \n",
       "594     25370   \n",
       "595     25372   \n",
       "596     25376   \n",
       "597     25381   \n",
       "598     25382   \n",
       "599     25401   \n",
       "\n",
       "                                                                                               claim  \\\n",
       "578                                        everyone was wrong <unknown> fat can be good for you        \n",
       "579            high intensity training does more harm than good raising the risk of cancer and heart   \n",
       "580                                 scoop trump tells <unknown> us will quit paris climate deal        \n",
       "581                                 scoop trump tells <unknown> us will quit paris climate deal        \n",
       "582                                 scoop trump tells <unknown> us will quit paris climate deal        \n",
       "583                             for president trump pulling out of paris is the only logical move      \n",
       "584                     donald trump walks back campaign pledges on another issue climate change       \n",
       "585  fake news wapo made-up <unknown> request for permanent back channel communication with russia     \n",
       "588                     <number> <unknown> studies proving gmos can be <unknown> to human health       \n",
       "589                          <number> studies proving gmos are <unknown> not if science matters        \n",
       "590         <unknown> staffer seth rich did not send thousands of e-mails to <unknown> before he was   \n",
       "591                                        the bonkers seth rich conspiracy theory explained           \n",
       "592                            climate change is not a hoax ask any <unknown> seeing it firsthand      \n",
       "593                           is climate change real and is the world actually getting <unknown>       \n",
       "594                               <number> things you need to know about the climate change hoax       \n",
       "595                               <number> things you need to know about the climate change hoax       \n",
       "596                 the fingerprint of global <unknown> doesnt exist in the real world study finds     \n",
       "597                                 climate change the hoax that costs us <number> billion a day       \n",
       "598                                 climate change the hoax that costs us <number> billion a day       \n",
       "599                                                                 why <unknown> failed               \n",
       "\n",
       "                                    most sim ngram  \\\n",
       "578                          fat and whether it is   \n",
       "579                 form of exercise the <unknown>   \n",
       "580                           to air on cbs sunday   \n",
       "581                     announce he is pulling the   \n",
       "582             's <unknown> venting and <unknown>   \n",
       "583                           to air on cbs sunday   \n",
       "584          degrees <unknown> or <number> degrees   \n",
       "585         way to <unknown> <unknown> discussions   \n",
       "588                         ever tells you that we   \n",
       "589                        presented just a bit of   \n",
       "590             begging right-wing news outlets to   \n",
       "591                 senseless act of violence seth   \n",
       "592                      records going back to the   \n",
       "593                  claimed the lives of numerous   \n",
       "594              <unknown> scandal chris horner of   \n",
       "595              last year climate change business   \n",
       "596     <unknown> released its <unknown> <unknown>   \n",
       "597  observations from <unknown> weather <unknown>   \n",
       "598              last year climate change business   \n",
       "599                       first glance its hard to   \n",
       "\n",
       "                                                                                      most sim paragraph  \\\n",
       "578                        this article takes a detailed look at <unknown> fat and whether it is good or   \n",
       "579                      but if a person isnt accustomed to this form of exercise the <unknown> could be   \n",
       "580                      speaking of uncertainty in a face the nation interview set to air on cbs sunday   \n",
       "581                        trump could announce he is pulling the us from the deal which would trigger a   \n",
       "582     the clean power plan the bureau of land management 's <unknown> venting and <unknown> regulation   \n",
       "583                      speaking of uncertainty in a face the nation interview set to air on cbs sunday   \n",
       "584     it also contains an even more stringent target of <number> degrees <unknown> or <number> degrees   \n",
       "585  <unknown> suggested the use of russian diplomatic facilities as a way to <unknown> <unknown> dis...   \n",
       "588                  if anybody ever tells you that we know with one hundred percent certainty that gmos   \n",
       "589                    below ive presented just a bit of information to get you started on your research   \n",
       "590  <unknown> family has been begging right-wing news outlets to stop spreading unfounded rumors abo...   \n",
       "591                 seth rich was murdered in a senseless act of violence seth rich worked in democratic   \n",
       "592                 in addition to <unknown> records going back to the <unknown> there is a large amount   \n",
       "593  ironically the famously <unknown> northwest passage which claimed the lives of numerous <unknown...   \n",
       "594                 since this occurred at around the same time as the <unknown> scandal chris horner of   \n",
       "595      last year climate change business journal calculated that the total annual spend on the climate   \n",
       "596  when <unknown> released its <unknown> <unknown> finding in <number> it used three lines of evidence   \n",
       "597  researchers analyzed temperature observations from <unknown> weather <unknown> weather stations ...   \n",
       "598      last year climate change business journal calculated that the total annual spend on the climate   \n",
       "599                             at first glance its hard to see why this piece of news is worth worrying   \n",
       "\n",
       "    predicted stance actual stance  \n",
       "578            agree         agree  \n",
       "579            agree         agree  \n",
       "580            agree         agree  \n",
       "581            agree         agree  \n",
       "582            agree         agree  \n",
       "583            agree         agree  \n",
       "584            agree         agree  \n",
       "585            agree         agree  \n",
       "588            agree         agree  \n",
       "589         disagree      disagree  \n",
       "590            agree         agree  \n",
       "591            agree         agree  \n",
       "592            agree         agree  \n",
       "593            agree         agree  \n",
       "594            agree         agree  \n",
       "595            agree         agree  \n",
       "596            agree         agree  \n",
       "597            agree         agree  \n",
       "598            agree         agree  \n",
       "599            agree         agree  "
      ]
     },
     "execution_count": 135,
     "metadata": {},
     "output_type": "execute_result"
    }
   ],
   "source": [
    "pd.options.display.max_colwidth = 100\n",
    "df.replace('\\s{14}', np.nan, inplace=True, regex=True)\n",
    "df.dropna(inplace=True)\n",
    "df.tail(20)"
   ]
  },
  {
   "cell_type": "code",
   "execution_count": null,
   "metadata": {},
   "outputs": [],
   "source": []
  }
 ],
 "metadata": {
  "kernelspec": {
   "display_name": "Python 3",
   "language": "python",
   "name": "python3"
  },
  "language_info": {
   "codemirror_mode": {
    "name": "ipython",
    "version": 3
   },
   "file_extension": ".py",
   "mimetype": "text/x-python",
   "name": "python",
   "nbconvert_exporter": "python",
   "pygments_lexer": "ipython3",
   "version": "3.6.5"
  }
 },
 "nbformat": 4,
 "nbformat_minor": 2
}
